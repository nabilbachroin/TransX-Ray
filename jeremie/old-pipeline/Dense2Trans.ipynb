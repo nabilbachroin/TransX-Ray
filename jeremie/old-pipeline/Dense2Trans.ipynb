{
 "cells": [
  {
   "cell_type": "code",
   "execution_count": 1,
   "id": "a0e2109f",
   "metadata": {
    "tags": []
   },
   "outputs": [],
   "source": [
    "n_fold= 1\n",
    "total_fold= '5'\n",
    "use_enchanced_dataset= False\n",
    "model_name= \"Dense2Trans\""
   ]
  },
  {
   "cell_type": "code",
   "execution_count": 2,
   "id": "5477ca1e-19f8-49f1-aaac-01cf171a7949",
   "metadata": {
    "tags": []
   },
   "outputs": [
    {
     "name": "stderr",
     "output_type": "stream",
     "text": [
      "/home/cries/.conda/envs/jeremie_env/lib/python3.9/site-packages/tensorflow_addons/utils/ensure_tf_install.py:53: UserWarning: Tensorflow Addons supports using Python ops for all Tensorflow versions above or equal to 2.3.0 and strictly below 2.6.0 (nightly versions are not supported). \n",
      " The versions of TensorFlow you are currently using is 2.11.0 and is not supported. \n",
      "Some things might work, some things might not.\n",
      "If you were to encounter a bug, do not file an issue.\n",
      "If you want to make sure you're using a tested and supported configuration, either change the TensorFlow version or the TensorFlow Addons's version. \n",
      "You can find the compatibility matrix in TensorFlow Addon's readme:\n",
      "https://github.com/tensorflow/addons\n",
      "  warnings.warn(\n"
     ]
    }
   ],
   "source": [
    "import numpy as np\n",
    "import pandas as pd\n",
    "import seaborn as sns\n",
    "import matplotlib as mpl\n",
    "import matplotlib.pyplot as plt\n",
    "import matplotlib.image as mpimg\n",
    "import time\n",
    "from tqdm.notebook import tqdm\n",
    "\n",
    "# Keras\n",
    "import tensorflow as tf\n",
    "import tensorflow_addons as tfa\n",
    "from tensorflow import keras\n",
    "from keras import *\n",
    "from keras.layers import *\n",
    "from keras.models import Model, Sequential, model_from_json, load_model\n",
    "from tensorflow.keras.preprocessing import image_dataset_from_directory\n",
    "from keras.preprocessing.image import ImageDataGenerator\n",
    "from keras.layers import *\n",
    "from keras.callbacks import ModelCheckpoint,EarlyStopping,TensorBoard,CSVLogger,ReduceLROnPlateau\n",
    "from keras import backend as K\n",
    "#from keras.applications.densenet import DenseNet121\n",
    "\n",
    "import util\n",
    "from sklearn.metrics import confusion_matrix, classification_report\n",
    "from livelossplot import PlotLossesKeras\n",
    "from keras.initializers import RandomNormal\n",
    "# from swintransformer import SwinTransformer"
   ]
  },
  {
   "cell_type": "code",
   "execution_count": null,
   "id": "3cefbfbf-fcc7-4bae-8e75-80ca8bccd41a",
   "metadata": {},
   "outputs": [],
   "source": []
  },
  {
   "cell_type": "code",
   "execution_count": 3,
   "id": "936dfef0",
   "metadata": {
    "tags": []
   },
   "outputs": [
    {
     "name": "stdout",
     "output_type": "stream",
     "text": [
      "[PhysicalDevice(name='/physical_device:GPU:0', device_type='GPU'), PhysicalDevice(name='/physical_device:GPU:1', device_type='GPU'), PhysicalDevice(name='/physical_device:GPU:2', device_type='GPU')]\n",
      "Test built: True\n"
     ]
    }
   ],
   "source": [
    "gpus = tf.config.experimental.list_physical_devices('GPU')\n",
    "print(gpus)\n",
    "for gpu in gpus:\n",
    "    tf.config.experimental.set_memory_growth(gpu, True)\n",
    "if gpus:\n",
    "    tf.config.set_visible_devices(gpus[0], 'GPU')\n",
    "\n",
    "print(\"Test built: {}\".format(tf.test.is_built_with_cuda()))"
   ]
  },
  {
   "cell_type": "code",
   "execution_count": 4,
   "id": "53372361",
   "metadata": {
    "tags": []
   },
   "outputs": [
    {
     "name": "stdout",
     "output_type": "stream",
     "text": [
      "Leakage between train and test: False\n"
     ]
    }
   ],
   "source": [
    "if use_enchanced_dataset == True:\n",
    "    IMAGE_DIR = \"/home/cries/Dataset/X-Ray/enchanced/\"\n",
    "else:\n",
    "    IMAGE_DIR = \"/home/cries/Dataset/X-Ray/original/images/\"\n",
    "    \n",
    "train_df= pd.read_csv(\"/home/cries/Dataset/X-Ray/DataFrame/\" + str(total_fold) + \"Fold/\" + \"train_Fold\" + str(n_fold) + \".csv\").loc[:,'Image Index':]\n",
    "test_df= pd.read_csv(\"/home/cries/Dataset/X-Ray/DataFrame/\" + str(total_fold) + \"Fold/\" + \"test_Fold\" + str(n_fold) + \".csv\").loc[:,'Image Index':]\n",
    "\n",
    "labels = ['No Findings',\n",
    "          'Cardiomegaly', \n",
    "          'Emphysema', \n",
    "          'Effusion', \n",
    "          'Hernia', \n",
    "          'Infiltration', \n",
    "          'Mass', \n",
    "          'Nodule', \n",
    "          'Atelectasis',\n",
    "          'Pneumothorax',\n",
    "          'Pleural_Thickening', \n",
    "          'Pneumonia', \n",
    "          'Fibrosis', \n",
    "          'Edema', \n",
    "          'Consolidation']\n",
    "\n",
    "print(\"Leakage between train and test: {}\".format(util.check_for_leakage(train_df, test_df, 'Image Index')))"
   ]
  },
  {
   "cell_type": "code",
   "execution_count": 5,
   "id": "612b0e99",
   "metadata": {
    "tags": []
   },
   "outputs": [],
   "source": [
    "# Setting\n",
    "seed= 1\n",
    "batch_size= 8\n",
    "# target_w= 320; target_h= 320; dim= (3,)\n",
    "target_w= 224; target_h= 224; dim= (3,)\n",
    "image_size_target= (target_w,target_h)\n",
    "image_shape= image_size_target + dim\n",
    "class_mode= 'raw'   # raw, categorical \n",
    "\n",
    "use_aug= False\n",
    "use_normalize= True\n",
    "index_col= \"Image Index\"\n",
    "labels_col= labels\n",
    "\n",
    "def prepare_generator(use_Aug, use_Normalize):\n",
    "    # == Aug Image\n",
    "    if use_Aug== True and use_Normalize== False:\n",
    "        return ImageDataGenerator(\n",
    "            rescale= 1./255,        \n",
    "            horizontal_flip= True,\n",
    "            height_shift_range= 0.5,\n",
    "            width_shift_range= 0.5,\n",
    "            vertical_flip= True,\n",
    "            rotation_range= 20,\n",
    "            fill_mode= \"nearest\"\n",
    "            )\n",
    "    # == Normalize Image\n",
    "    if use_Aug== False and use_Normalize== True:\n",
    "        return ImageDataGenerator(\n",
    "            samplewise_center= True,\n",
    "            samplewise_std_normalization= True\n",
    "            )\n",
    "    # == Without\n",
    "    if use_Aug== False and use_Normalize== False:\n",
    "        return ImageDataGenerator()"
   ]
  },
  {
   "cell_type": "code",
   "execution_count": 6,
   "id": "d3b674ac",
   "metadata": {
    "tags": []
   },
   "outputs": [
    {
     "name": "stdout",
     "output_type": "stream",
     "text": [
      "============ getting train generator ===========\n",
      "Found 4484 validated image filenames.\n",
      "\n",
      "==== getting train and test/valid generators ====\n",
      "Found 4484 validated image filenames.\n",
      "Found 1122 validated image filenames.\n"
     ]
    },
    {
     "name": "stderr",
     "output_type": "stream",
     "text": [
      "Clipping input data to the valid range for imshow with RGB data ([0..1] for floats or [0..255] for integers).\n"
     ]
    },
    {
     "data": {
      "image/png": "[encoded data removed]",
      "text/plain": [
       "<Figure size 144x144 with 1 Axes>"
      ]
     },
     "metadata": {
      "needs_background": "light"
     },
     "output_type": "display_data"
    }
   ],
   "source": [
    "# === Image Train Generator\n",
    "print(\"============ getting train generator ===========\") \n",
    "image_train= prepare_generator(False, True).flow_from_dataframe(\n",
    "    dataframe= train_df,\n",
    "    directory= IMAGE_DIR,\n",
    "    x_col= index_col,\n",
    "    y_col= labels,\n",
    "    class_mode= class_mode,\n",
    "    batch_size= batch_size,\n",
    "    shuffle= True,\n",
    "    target_size= image_size_target\n",
    ")\n",
    "\n",
    "# === Image Validation and Test Generator\n",
    "print(\"\")\n",
    "print(\"==== getting train and test/valid generators ====\")\n",
    "raw_train_generator= prepare_generator(False, False).flow_from_dataframe(\n",
    "                        dataframe= train_df,\n",
    "                        directory= IMAGE_DIR,\n",
    "                        x_col= index_col,\n",
    "                        y_col= labels,\n",
    "                        class_mode= class_mode,\n",
    "                        batch_size= batch_size,\n",
    "                        shuffle= True,\n",
    "                        target_size= image_size_target\n",
    "                    )\n",
    "batch= raw_train_generator.next()\n",
    "data_sample= batch[0]\n",
    "imagegenerator= prepare_generator(False, True)\n",
    "imagegenerator.fit(data_sample)\n",
    "image_val = imagegenerator.flow_from_dataframe(\n",
    "                        dataframe= test_df,\n",
    "                        directory= IMAGE_DIR,\n",
    "                        x_col= index_col,\n",
    "                        y_col= labels,\n",
    "                        class_mode= class_mode,\n",
    "                        batch_size= batch_size,\n",
    "                        shuffle= False,\n",
    "                        target_size= image_size_target\n",
    "                    )\n",
    "\n",
    "x, y = image_train.__getitem__(0)\n",
    "plt.figure(figsize=(2,2))\n",
    "plt.axis('off')\n",
    "plt.imshow(x[0]);"
   ]
  },
  {
   "cell_type": "code",
   "execution_count": null,
   "id": "96d8b1ce-513f-49d8-9cbb-a749871fad1d",
   "metadata": {},
   "outputs": [],
   "source": []
  },
  {
   "cell_type": "code",
   "execution_count": 7,
   "id": "02c8da0b",
   "metadata": {
    "tags": []
   },
   "outputs": [
    {
     "data": {
      "image/png": "[encoded data removed]",
      "text/plain": [
       "<Figure size 720x216 with 1 Axes>"
      ]
     },
     "metadata": {
      "needs_background": "light"
     },
     "output_type": "display_data"
    }
   ],
   "source": [
    "plt.figure(figsize=(10,3))\n",
    "plt.xticks(rotation=90)\n",
    "plt.bar(x=labels, height=np.mean(image_train.labels, axis=0))\n",
    "plt.title(\"Frequency of Each Class\")\n",
    "plt.show()"
   ]
  },
  {
   "cell_type": "code",
   "execution_count": 8,
   "id": "a66c6c5b",
   "metadata": {
    "tags": []
   },
   "outputs": [
    {
     "data": {
      "text/plain": [
       "array([0.54192685, 0.02520071, 0.02363961, 0.11641392, 0.00223015,\n",
       "       0.17105263, 0.05307761, 0.0544157 , 0.0941124 , 0.04772525,\n",
       "       0.03077609, 0.01137377, 0.01449599, 0.02118644, 0.0396967 ])"
      ]
     },
     "execution_count": 8,
     "metadata": {},
     "output_type": "execute_result"
    }
   ],
   "source": [
    "def compute_class_freqs(labels):\n",
    "    # total number of patients (rows)\n",
    "    N = labels.shape[0]\n",
    "    positive_frequencies = np.sum(labels, axis = 0) / N\n",
    "    negative_frequencies = 1 - positive_frequencies\n",
    "    return positive_frequencies, negative_frequencies\n",
    "\n",
    "freq_pos, freq_neg = compute_class_freqs(image_train.labels)\n",
    "freq_pos"
   ]
  },
  {
   "cell_type": "code",
   "execution_count": 9,
   "id": "0bad2b61",
   "metadata": {
    "tags": []
   },
   "outputs": [
    {
     "name": "stderr",
     "output_type": "stream",
     "text": [
      "<ipython-input-9-5b7fdcf061fc>:2: FutureWarning: The frame.append method is deprecated and will be removed from pandas in a future version. Use pandas.concat instead.\n",
      "  data = data.append([{\"Class\": labels[l], \"Label\": \"Negative\", \"Value\": v} for l,v in enumerate(freq_neg)], ignore_index=True)\n"
     ]
    },
    {
     "data": {
      "image/png": "[encoded data removed]",
      "text/plain": [
       "<Figure size 720x216 with 1 Axes>"
      ]
     },
     "metadata": {
      "needs_background": "light"
     },
     "output_type": "display_data"
    }
   ],
   "source": [
    "data = pd.DataFrame({\"Class\": labels, \"Label\": \"Positive\", \"Value\": freq_pos})\n",
    "data = data.append([{\"Class\": labels[l], \"Label\": \"Negative\", \"Value\": v} for l,v in enumerate(freq_neg)], ignore_index=True)\n",
    "plt.figure(figsize=(10,3))\n",
    "plt.xticks(rotation=90)\n",
    "f = sns.barplot(x=\"Class\", y=\"Value\", hue=\"Label\" ,data=data)"
   ]
  },
  {
   "cell_type": "code",
   "execution_count": 10,
   "id": "b7428e90",
   "metadata": {
    "tags": []
   },
   "outputs": [
    {
     "name": "stderr",
     "output_type": "stream",
     "text": [
      "<ipython-input-10-705df616134b>:7: FutureWarning: The frame.append method is deprecated and will be removed from pandas in a future version. Use pandas.concat instead.\n",
      "  data = data.append([{\"Class\": labels[l], \"Label\": \"Negative\", \"Value\": v}\n"
     ]
    },
    {
     "data": {
      "image/png": "[encoded data removed]",
      "text/plain": [
       "<Figure size 720x216 with 1 Axes>"
      ]
     },
     "metadata": {
      "needs_background": "light"
     },
     "output_type": "display_data"
    }
   ],
   "source": [
    "pos_weights = freq_neg\n",
    "neg_weights = freq_pos\n",
    "pos_contribution = freq_pos * pos_weights \n",
    "neg_contribution = freq_neg * neg_weights\n",
    "\n",
    "data = pd.DataFrame({\"Class\": labels, \"Label\": \"Positive\", \"Value\": pos_contribution})\n",
    "data = data.append([{\"Class\": labels[l], \"Label\": \"Negative\", \"Value\": v} \n",
    "                        for l,v in enumerate(neg_contribution)], ignore_index=True)\n",
    "plt.figure(figsize=(10,3))\n",
    "plt.xticks(rotation=90)\n",
    "sns.barplot(x=\"Class\", y=\"Value\", hue=\"Label\" ,data=data);"
   ]
  },
  {
   "cell_type": "code",
   "execution_count": 11,
   "id": "7674bb3e-aa68-42f9-bd52-807f16325506",
   "metadata": {
    "tags": []
   },
   "outputs": [],
   "source": [
    "num_class = len(labels)"
   ]
  },
  {
   "cell_type": "code",
   "execution_count": 12,
   "id": "4a3d3f68-2c52-41b4-be2b-0a9cce52b32d",
   "metadata": {
    "tags": []
   },
   "outputs": [],
   "source": [
    "inputs= Input(shape=(224,224,3))"
   ]
  },
  {
   "cell_type": "code",
   "execution_count": 13,
   "id": "4ebff594-892a-4e97-92b0-8c4c26be6a54",
   "metadata": {},
   "outputs": [],
   "source": [
    "def dense_conv(previous_layer):\n",
    "    dense1 = Conv2D(16, kernel_size=1, activation=\"relu\", padding=\"same\")(previous_layer)\n",
    "\n",
    "    dense2 = Conv2D(16, kernel_size=1, activation=\"relu\", padding=\"same\")(dense1)\n",
    "\n",
    "    merge1 = Concatenate()([dense1, dense2])\n",
    "\n",
    "    dense3 = Conv2D(16, kernel_size=3, activation=\"relu\", padding=\"same\")(merge1)\n",
    "\n",
    "    merge2 = Concatenate()([dense1, dense2, dense3])\n",
    "\n",
    "    dense4 = Conv2D(16, kernel_size=3, activation=\"relu\", padding=\"same\")(merge2)\n",
    "\n",
    "    merge3 = Concatenate()([dense1, dense2, dense3, dense4])\n",
    "\n",
    "    dense5 = Conv2D(16, kernel_size=3, activation=\"relu\", padding=\"same\")(merge3)\n",
    "    \n",
    "    return dense5\n"
   ]
  },
  {
   "cell_type": "code",
   "execution_count": 14,
   "id": "6dd2cfcf-aa1d-4d31-9617-d8fcfc96570e",
   "metadata": {},
   "outputs": [],
   "source": [
    "def mlp_head(x, depth=[128, 128], dropout_rate=0.5):\n",
    "    for units in depth:\n",
    "        x = layers.Dense(units, activation='LeakyReLU')(x)\n",
    "        x = LayerNormalization()(x)\n",
    "        x = Dropout(dropout_rate)(x)\n",
    "    return x"
   ]
  },
  {
   "cell_type": "code",
   "execution_count": 15,
   "id": "a46ea774-ccbc-4ce7-9ad3-a9f5a72e324a",
   "metadata": {},
   "outputs": [],
   "source": [
    "learning_rate = 0.001\n",
    "weight_decay = 0.0001\n",
    "batch_size = 256\n",
    "num_epochs = 100\n",
    "image_size = 72  # We'll resize input images to this size\n",
    "patch_size = 6  # Size of the patches to be extract from the input images\n",
    "num_patches = (image_size // patch_size) ** 2\n",
    "projection_dim = 64\n",
    "num_heads = 4\n",
    "transformer_units = [\n",
    "    projection_dim * 2,\n",
    "    projection_dim,\n",
    "]  # Size of the transformer layers\n",
    "transformer_layers = 8\n",
    "mlp_head_units = [2048, 1024]"
   ]
  },
  {
   "cell_type": "code",
   "execution_count": 16,
   "id": "1e7b5bea-99f8-4e5f-a139-12b0884fb6a6",
   "metadata": {},
   "outputs": [],
   "source": [
    "data_augmentation = keras.Sequential(\n",
    "    [\n",
    "        # layers.Normalization(),\n",
    "        layers.Resizing(image_size, image_size),\n",
    "        # layers.RandomFlip(\"horizontal\"),\n",
    "        # layers.RandomRotation(factor=0.02),\n",
    "        # layers.RandomZoom(\n",
    "        #     height_factor=0.2, width_factor=0.2\n",
    "        # ),\n",
    "    ],\n",
    "    name=\"data_augmentation\",\n",
    ")\n",
    "# Compute the mean and the variance of the training data for normalization.\n",
    "# data_augmentation.layers[0].adapt(image_train)"
   ]
  },
  {
   "cell_type": "code",
   "execution_count": 17,
   "id": "a25a484a-dcca-4fde-9369-f1d97e4645be",
   "metadata": {},
   "outputs": [],
   "source": [
    "def mlp(x, hidden_units, dropout_rate):\n",
    "    for units in hidden_units:\n",
    "        x = layers.Dense(units, activation=tf.nn.gelu)(x)\n",
    "        x = layers.Dropout(dropout_rate)(x)\n",
    "    return x"
   ]
  },
  {
   "cell_type": "code",
   "execution_count": 18,
   "id": "8017e283-5413-4735-a67c-6062bb2a10bb",
   "metadata": {},
   "outputs": [],
   "source": [
    "class Patches(layers.Layer):\n",
    "    def __init__(self, patch_size):\n",
    "        super(Patches, self).__init__()\n",
    "        self.patch_size = patch_size\n",
    "\n",
    "    def call(self, images):\n",
    "        batch_size = tf.shape(images)[0]\n",
    "        patches = tf.image.extract_patches(\n",
    "            images=images,\n",
    "            sizes=[1, self.patch_size, self.patch_size, 1],\n",
    "            strides=[1, self.patch_size, self.patch_size, 1],\n",
    "            rates=[1, 1, 1, 1],\n",
    "            padding=\"VALID\",\n",
    "        )\n",
    "        patch_dims = patches.shape[-1]\n",
    "        patches = tf.reshape(patches, [batch_size, -1, patch_dims])\n",
    "        return patches"
   ]
  },
  {
   "cell_type": "code",
   "execution_count": 19,
   "id": "eb26d679-985e-4ef0-8df8-6078d3b40770",
   "metadata": {},
   "outputs": [],
   "source": [
    "class PatchEncoder(layers.Layer):\n",
    "    def __init__(self, num_patches, projection_dim):\n",
    "        super(PatchEncoder, self).__init__()\n",
    "        self.num_patches = num_patches\n",
    "        self.projection = layers.Dense(units=projection_dim)\n",
    "        self.position_embedding = layers.Embedding(\n",
    "            input_dim=num_patches, output_dim=projection_dim\n",
    "        )\n",
    "\n",
    "    def call(self, patch):\n",
    "        positions = tf.range(start=0, limit=self.num_patches, delta=1)\n",
    "        encoded = self.projection(patch) + self.position_embedding(positions)\n",
    "        return encoded"
   ]
  },
  {
   "cell_type": "code",
   "execution_count": 20,
   "id": "215f606d-3452-48d5-8f0c-65202c76f193",
   "metadata": {},
   "outputs": [],
   "source": [
    "def create_vit_classifier(layer):\n",
    "    inputs = layer\n",
    "    # Augment data.\n",
    "    augmented = data_augmentation(inputs)\n",
    "    # Create patches.\n",
    "    patches = Patches(patch_size)(augmented)\n",
    "    # Encode patches.\n",
    "    encoded_patches = PatchEncoder(num_patches, projection_dim)(patches)\n",
    "\n",
    "    # Create multiple layers of the Transformer block.\n",
    "    for _ in range(transformer_layers):\n",
    "        # Layer normalization 1.\n",
    "        x1 = layers.LayerNormalization(epsilon=1e-6)(encoded_patches)\n",
    "        # Create a multi-head attention layer.\n",
    "        attention_output = layers.MultiHeadAttention(\n",
    "            num_heads=num_heads, key_dim=projection_dim, dropout=0.1\n",
    "        )(x1, x1)\n",
    "        # Skip connection 1.\n",
    "        x2 = layers.Add()([attention_output, encoded_patches])\n",
    "        # Layer normalization 2.\n",
    "        x3 = layers.LayerNormalization(epsilon=1e-6)(x2)\n",
    "        # MLP.\n",
    "        x3 = mlp(x3, hidden_units=transformer_units, dropout_rate=0.1)\n",
    "        # Skip connection 2.\n",
    "        encoded_patches = layers.Add()([x3, x2])\n",
    "\n",
    "    # Create a [batch_size, projection_dim] tensor.\n",
    "    representation = layers.LayerNormalization(epsilon=1e-6)(encoded_patches)\n",
    "    representation = layers.Flatten()(representation)\n",
    "    representation = layers.Dropout(0.1)(representation)\n",
    "    # Add MLP.\n",
    "    features = mlp(representation, hidden_units=mlp_head_units, dropout_rate=0.1)\n",
    "    # Classify outputs.\n",
    "    prediction = layers.Dense(num_class, activation=\"sigmoid\")(features)\n",
    "    # Create the Keras model.\n",
    "    # model = keras.Model(inputs=inputs, outputs=logits)\n",
    "    return prediction"
   ]
  },
  {
   "cell_type": "code",
   "execution_count": 21,
   "id": "99efde48-ec13-4177-a7e4-bba5dd8876c8",
   "metadata": {},
   "outputs": [],
   "source": [
    "class Sampling(layers.Layer):\n",
    "    \"\"\"Uses (z_mean, z_log_var) to sample z, the vector encoding a digit.\"\"\"\n",
    "\n",
    "    def call(self, inputs):\n",
    "        z_mean, z_log_var = inputs\n",
    "        batch = tf.shape(z_mean)[0]\n",
    "        dim = tf.shape(z_mean)[1]\n",
    "        epsilon = tf.keras.backend.random_normal(shape=(batch, dim))\n",
    "        return z_mean + tf.exp(0.5 * z_log_var) * epsilon\n",
    "\n",
    "def VAE(encoder_inputs):\n",
    "    latent_dim = 2\n",
    "    x = layers.Conv2D(32, 3, activation=\"relu\", strides=2, padding=\"same\")(encoder_inputs)\n",
    "    x = layers.Conv2D(64, 3, activation=\"relu\", strides=2, padding=\"same\")(x)\n",
    "    x = layers.Flatten()(x)\n",
    "    x = layers.Dense(16, activation=\"relu\")(x)\n",
    "    z_mean = layers.Dense(latent_dim, name=\"z_mean\")(x)\n",
    "    z_log_var = layers.Dense(latent_dim, name=\"z_log_var\")(x)\n",
    "    latent_inputs = Sampling()([z_mean, z_log_var])\n",
    "\n",
    "    x = layers.Dense(7 * 7 * 64, activation=\"relu\")(latent_inputs)\n",
    "    x = layers.Reshape((7, 7, 64))(x)\n",
    "    x = layers.Conv2DTranspose(64, 3, activation=\"relu\", strides=2, padding=\"same\")(x)\n",
    "    x = layers.Conv2DTranspose(32, 3, activation=\"relu\", strides=2, padding=\"same\")(x)\n",
    "    decoder_outputs = layers.Conv2DTranspose(1, 3, activation=\"sigmoid\", padding=\"same\")(x)\n",
    "    \n",
    "    outputs = LayerNormalization()(decoder_outputs)\n",
    "    return outputs"
   ]
  },
  {
   "cell_type": "code",
   "execution_count": 22,
   "id": "3f03c3d7-f7e3-4815-b976-9c887898e659",
   "metadata": {
    "tags": []
   },
   "outputs": [],
   "source": [
    "def build_model(input_layer):\n",
    "    ae = VAE(input_layer)\n",
    "    conv1 = Conv2D(96, kernel_size=7, strides=2, activation=\"relu\", padding=\"same\")(ae)\n",
    "    pool1 = MaxPooling2D(pool_size=3, strides=2, padding=\"same\")(conv1)\n",
    "    pool1 = dense_conv(pool1)\n",
    "    conv1 = Conv2D(12, kernel_size=1, strides=2, activation=\"relu\", padding=\"same\")(pool1)\n",
    "    pool1 = MaxPooling2D(pool_size=3, strides=2, padding=\"same\")(conv1)\n",
    "    pool1 = dense_conv(pool1)\n",
    "    \n",
    "    output_layer = LayerNormalization()(pool1)\n",
    "    \n",
    "    vit = create_vit_classifier(output_layer)\n",
    "    # prediction = Dense(num_class, activation=\"sigmoid\")(output_layer)\n",
    "    \n",
    "    return vit\n",
    "\n",
    "input_layer = inputs\n",
    "output = build_model(input_layer)"
   ]
  },
  {
   "cell_type": "code",
   "execution_count": 23,
   "id": "ec164f73-08b6-47ba-be27-4bb6dc6b1eb7",
   "metadata": {
    "tags": []
   },
   "outputs": [],
   "source": [
    "model = Model(input_layer, output)"
   ]
  },
  {
   "cell_type": "code",
   "execution_count": 24,
   "id": "359c5b73",
   "metadata": {
    "tags": []
   },
   "outputs": [],
   "source": [
    "# keras.utils.plot_model(model)"
   ]
  },
  {
   "cell_type": "code",
   "execution_count": 25,
   "id": "fb5447d9",
   "metadata": {
    "tags": []
   },
   "outputs": [],
   "source": [
    "# model.summary()"
   ]
  },
  {
   "cell_type": "code",
   "execution_count": 26,
   "id": "f3380401",
   "metadata": {
    "tags": []
   },
   "outputs": [],
   "source": [
    "# merged_neck = keras.layers.concatenate([Swin_Model.output, mb3_Model.output])\n",
    "# neck = BatchNormalization()(merged_neck)\n",
    "\n",
    "# dense = Dense(16, activation='LeakyReLU')(neck)\n",
    "# dense = Dense(4)(dense)\n",
    "# dense = Dense(16, activation='LeakyReLU')(dense)\n",
    "\n",
    "# merged_head = keras.layers.concatenate([neck, dense])\n",
    "\n",
    "# head = Dense(32, activation='LeakyReLU')(merged_head)\n",
    "# head = Dense(8)(head)\n",
    "# head = Dense(32, activation='LeakyReLU')(head)\n",
    "\n",
    "# head = Dense(num_class, activation='softmax')(head)\n",
    "\n",
    "# model = Model(inputs=inputs, outputs=head)"
   ]
  },
  {
   "cell_type": "code",
   "execution_count": null,
   "id": "ffaae8e2-d0d0-426e-9083-dc61b99c5b2d",
   "metadata": {
    "tags": []
   },
   "outputs": [],
   "source": []
  },
  {
   "cell_type": "code",
   "execution_count": 27,
   "id": "fb048dce",
   "metadata": {
    "tags": []
   },
   "outputs": [
    {
     "name": "stdout",
     "output_type": "stream",
     "text": [
      "WARNING:tensorflow:`period` argument is deprecated. Please use `save_freq` to specify the frequency in number of batches seen.\n"
     ]
    }
   ],
   "source": [
    "epoch = 25\n",
    "\n",
    "lr = 4e-5\n",
    "decay_rate = lr / epoch\n",
    "momentum = 0.99\n",
    "adam = tf.keras.optimizers.Adam(learning_rate=lr, beta_1=decay_rate, beta_2=decay_rate*decay_rate, epsilon=1e-07, amsgrad=False)\n",
    "sgd = tf.keras.optimizers.SGD(learning_rate=lr, momentum=momentum, weight_decay=decay_rate, nesterov=False)\n",
    "checkpoint = ModelCheckpoint(\"ckp_{}.hdf5\".format(model_name), monitor='loss', verbose=1, save_best_only=True, mode='auto', period=1)\n",
    "\n",
    "# class_weigths = dict(zip(range(len(neg_weights)), neg_weights))\n",
    "# weighted_loss = get_weighted_loss(pos_weights, neg_weights)\n",
    "bfce_ls = tf.losses.BinaryCrossentropy(label_smoothing = 0.0)\n",
    "\n",
    "metric_auc = tf.keras.metrics.AUC(multi_label=True)\n",
    "\n",
    "model.compile(loss=bfce_ls, optimizer=sgd, metrics=[metric_auc])"
   ]
  },
  {
   "cell_type": "code",
   "execution_count": null,
   "id": "986f9abb",
   "metadata": {
    "tags": []
   },
   "outputs": [
    {
     "data": {
      "image/png": "[encoded data removed]",
      "text/plain": [
       "<Figure size 864x576 with 2 Axes>"
      ]
     },
     "metadata": {
      "needs_background": "light"
     },
     "output_type": "display_data"
    },
    {
     "name": "stdout",
     "output_type": "stream",
     "text": [
      "auc\n",
      "\ttraining         \t (min:    0.506, max:    0.508, cur:    0.508)\n",
      "\tvalidation       \t (min:    0.500, max:    0.500, cur:    0.500)\n",
      "Loss\n",
      "\ttraining         \t (min:    0.223, max:    0.260, cur:    0.223)\n",
      "\tvalidation       \t (min:    0.214, max:    0.214, cur:    0.214)\n",
      "561/561 [==============================] - 92s 163ms/step - loss: 0.2228 - auc: 0.5084 - val_loss: 0.2140 - val_auc: 0.5000\n",
      "Epoch 3/25\n",
      "218/561 [==========>...................] - ETA: 44s - loss: 0.2248 - auc: 0.4837"
     ]
    }
   ],
   "source": [
    "start = time.time()\n",
    "history = model.fit(image_train, epochs=epoch, validation_data=image_val, callbacks=[checkpoint,PlotLossesKeras()],verbose=1)\n",
    "end_train = time.time() - start"
   ]
  },
  {
   "cell_type": "code",
   "execution_count": null,
   "id": "2f46c5dd",
   "metadata": {
    "tags": []
   },
   "outputs": [],
   "source": [
    "model.save('model_{}'.format(model_name))"
   ]
  },
  {
   "cell_type": "code",
   "execution_count": null,
   "id": "dfed547c",
   "metadata": {
    "tags": []
   },
   "outputs": [],
   "source": [
    "import os\n",
    "\n",
    "model.save_weights(\"{}_weights.h5\".format(model_name))\n",
    "file_stats = os.stat(\"{}_weights.h5\".format(model_name))\n",
    "model_size = round(file_stats.st_size / (1024 * 1024), 2)\n",
    "model_parameter = model.count_params()"
   ]
  },
  {
   "cell_type": "code",
   "execution_count": null,
   "id": "eb7ce26a",
   "metadata": {
    "tags": []
   },
   "outputs": [],
   "source": [
    "import pickle\n",
    "\n",
    "with open('trainHistoryDict', 'wb') as file_pi:\n",
    "        pickle.dump(history.history, file_pi)"
   ]
  },
  {
   "cell_type": "code",
   "execution_count": null,
   "id": "5bca88f5",
   "metadata": {
    "tags": []
   },
   "outputs": [],
   "source": [
    "#Load Model\n",
    "from tensorflow import keras\n",
    "model_fusion = keras.models.load_model('./model_{}/'.format(model_name))"
   ]
  },
  {
   "cell_type": "code",
   "execution_count": null,
   "id": "448bb8d8-567f-4250-8a1c-4e3ff989d7be",
   "metadata": {
    "tags": []
   },
   "outputs": [],
   "source": [
    "predicted_vals = model_fusion.predict_generator(image_val, steps = len(image_val))"
   ]
  },
  {
   "cell_type": "code",
   "execution_count": null,
   "id": "86268429-51e9-48e4-87fd-0a164283a3ce",
   "metadata": {
    "tags": []
   },
   "outputs": [],
   "source": [
    "auc_rocs = util.get_roc_curve(labels, predicted_vals, image_val)"
   ]
  },
  {
   "cell_type": "code",
   "execution_count": null,
   "id": "dde830f6-9ced-4b64-a23d-1d5e288db144",
   "metadata": {
    "tags": []
   },
   "outputs": [],
   "source": [
    "from numba import cuda \n",
    "device = cuda.get_current_device()\n",
    "device.reset()\n",
    "print(device)"
   ]
  },
  {
   "cell_type": "code",
   "execution_count": null,
   "id": "47477536",
   "metadata": {},
   "outputs": [],
   "source": [
    "# from sklearn.metrics import confusion_matrix\n",
    "# from sklearn.metrics import classification_report\n",
    "# from sklearn.metrics import precision_score\n",
    "# from sklearn.metrics import recall_score\n",
    "# from sklearn.metrics import multilabel_confusion_matrix\n",
    "# from sklearn.metrics import f1_score\n",
    "# from sklearn.metrics import accuracy_score\n",
    "\n",
    "# start = time.time()\n",
    "# y_prob = model_fusion.predict(image_val)\n",
    "# end_test = time.time() - start\n",
    "\n",
    "# y_pred = np.argmax(y_prob, axis=1)\n",
    "# y_true = image_val.classes\n",
    "\n",
    "# print(\"Precision:\", precision_score(y_true, y_pred, average='weighted'), \"Recall:\", recall_score(y_true, y_pred, average='weighted'))\n",
    "\n",
    "# cm = multilabel_confusion_matrix(y_true, y_pred)\n",
    "\n",
    "# a = []\n",
    "\n",
    "# for i in range(len(cm)):\n",
    "#     a.append(cm[i].ravel())\n",
    "\n",
    "# tp, fn, fp, tn =np.sum(np.array(a), axis = 0)\n",
    "\n",
    "# print(\"tp, fn, fp, tn:\", tp, fn, fp, tn)\n",
    "\n",
    "# print(\"Specificity:\", tn / (tn+fp), \"Sensitivity:\", tp / (tp+fn))\n",
    "# print(\"F1-Score:\", f1_score(y_true, y_pred, average='weighted'), \"Accuracy:\", accuracy_score(y_true, y_pred))\n",
    "\n",
    "# Specificty = tn / (tn+fp)\n",
    "# Sensitivity = tp / (tp+fn)\n",
    "# F1_Score = f1_score(y_true, y_pred, average='weighted')\n",
    "# Accuracy = accuracy_score(y_true, y_pred)"
   ]
  },
  {
   "cell_type": "code",
   "execution_count": null,
   "id": "4ba4216e",
   "metadata": {},
   "outputs": [],
   "source": [
    "# result = [y_true, y_pred]\n",
    "# pd.DataFrame(result).to_csv(\"{}_{}_result.csv\".format(model_name, n_fold))\n",
    "# pd.DataFrame(y_prob).to_csv(\"{}_{}_probability.csv\".format(model_name, n_fold))"
   ]
  },
  {
   "cell_type": "code",
   "execution_count": null,
   "id": "60eece65",
   "metadata": {},
   "outputs": [],
   "source": [
    "# from sklearn.metrics import roc_curve\n",
    "# from sklearn.metrics import roc_auc_score\n",
    "\n",
    "# fpr_keras, tpr_keras, thresholds_keras = roc_curve(y_true, y_pred)\n",
    "# m_auc = roc_auc_score(y_true, y_pred)\n",
    "\n",
    "# print(fpr_keras, tpr_keras, thresholds_keras, m_auc)\n",
    "\n",
    "# from sklearn.metrics import auc\n",
    "# auc_keras = auc(fpr_keras, tpr_keras)\n",
    "# print(auc_keras)"
   ]
  },
  {
   "cell_type": "code",
   "execution_count": null,
   "id": "0636b47a",
   "metadata": {},
   "outputs": [],
   "source": [
    "# # keep probabilities for the positive outcome only\n",
    "# lr_probs = y_prob[:, 1]\n",
    "# lr_auc = roc_auc_score(y_true, lr_probs)\n",
    "# print('Model Fusion: ROC AUC=%.3f' % (lr_auc))\n",
    "\n",
    "# lr_fpr, lr_tpr, _ = roc_curve(y_true, lr_probs)\n",
    "\n",
    "# plt.figure(figsize=(10, 10))\n",
    "# font={'size':'15'}\n",
    "# plt.rc('font',**font)\n",
    "\n",
    "# plt.plot([0, 1], [0, 1], 'k--', label='No Skill')\n",
    "# plt.plot(lr_fpr, lr_tpr, marker='.', label='{} Model ROC curve (area = %0.2f)'.format(model_name) % lr_auc)\n",
    "\n",
    "# roc_auc = [lr_fpr, lr_fpr]\n",
    "# pd.DataFrame(roc_auc).to_csv(\"{}_roc_auc.csv\".format(model_name))\n",
    "\n",
    "# # axis labels\n",
    "# plt.xlabel('False Positive Rate')\n",
    "# plt.ylabel('True Positive Rate')\n",
    "# # show the legend\n",
    "# plt.legend()\n",
    "\n",
    "# AUC_Score = lr_auc"
   ]
  },
  {
   "cell_type": "code",
   "execution_count": null,
   "id": "c9a6ace7",
   "metadata": {},
   "outputs": [],
   "source": [
    "# Result = [Specificty, Sensitivity, F1_Score, Accuracy, AUC_Score, end_train, end_test, model_size, model_parameter]\n",
    "# colname = ['Specificty', 'Sensitivity', 'F1_Score', 'Accuracy', 'AUC_Score', 'end_train', 'end_test', 'model_size', 'model_parameter']\n",
    "\n",
    "# pd.DataFrame([Result], columns=colname).to_csv(\"{}_fold_\".format(model_name)+str(n_fold)+\".csv\")"
   ]
  },
  {
   "cell_type": "code",
   "execution_count": null,
   "id": "9056cae9",
   "metadata": {},
   "outputs": [],
   "source": [
    "# from sklearn.metrics import ConfusionMatrixDisplay\n",
    "# from sklearn.metrics import confusion_matrix\n",
    "# import matplotlib.pyplot as plt\n",
    "\n",
    "# plt.figure(figsize=(15, 15))\n",
    "\n",
    "# labels = [\"Sperm\", \"Impurity\"]\n",
    "# cm = confusion_matrix(y_true, y_pred)\n",
    "# disp = ConfusionMatrixDisplay(confusion_matrix=cm, display_labels=labels)\n",
    "\n",
    "# plt.rcParams['figure.figsize']=[15,15]\n",
    "# font={'size':'30'}\n",
    "# plt.rc('font',**font)\n",
    "# disp.plot(cmap=plt.cm.Blues)"
   ]
  }
 ],
 "metadata": {
  "kernelspec": {
   "display_name": "jeremie_env",
   "language": "python",
   "name": "jeremie_env"
  },
  "language_info": {
   "codemirror_mode": {
    "name": "ipython",
    "version": 3
   },
   "file_extension": ".py",
   "mimetype": "text/x-python",
   "name": "python",
   "nbconvert_exporter": "python",
   "pygments_lexer": "ipython3",
   "version": "3.9.15"
  },
  "widgets": {
   "application/vnd.jupyter.widget-state+json": {
    "state": {},
    "version_major": 2,
    "version_minor": 0
   }
  }
 },
 "nbformat": 4,
 "nbformat_minor": 5
}
