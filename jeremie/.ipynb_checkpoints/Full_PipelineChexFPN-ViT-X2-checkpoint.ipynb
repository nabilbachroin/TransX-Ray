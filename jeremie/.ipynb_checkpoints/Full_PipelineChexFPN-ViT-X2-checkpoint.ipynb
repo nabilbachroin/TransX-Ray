{
 "cells": [
  {
   "cell_type": "code",
   "execution_count": 1,
   "id": "a0e2109f",
   "metadata": {
    "tags": []
   },
   "outputs": [],
   "source": [
    "n_fold= 1\n",
    "total_fold= '5'\n",
    "use_enchanced_dataset = False\n",
    "model_name= \"Full-ChexFPN-ViT-X2\"\n",
    "\n",
    "full_dataset = True"
   ]
  },
  {
   "cell_type": "code",
   "execution_count": null,
   "id": "74026c35-a568-48bc-b31c-c97f6e659a16",
   "metadata": {
    "tags": []
   },
   "outputs": [],
   "source": []
  },
  {
   "cell_type": "code",
   "execution_count": 2,
   "id": "5477ca1e-19f8-49f1-aaac-01cf171a7949",
   "metadata": {
    "tags": []
   },
   "outputs": [
    {
     "name": "stderr",
     "output_type": "stream",
     "text": [
      "2023-01-09 03:34:33.602840: I tensorflow/core/platform/cpu_feature_guard.cc:193] This TensorFlow binary is optimized with oneAPI Deep Neural Network Library (oneDNN) to use the following CPU instructions in performance-critical operations:  AVX2 FMA\n",
      "To enable them in other operations, rebuild TensorFlow with the appropriate compiler flags.\n",
      "2023-01-09 03:34:34.486484: W tensorflow/compiler/xla/stream_executor/platform/default/dso_loader.cc:64] Could not load dynamic library 'libnvinfer.so.7'; dlerror: libnvinfer.so.7: cannot open shared object file: No such file or directory; LD_LIBRARY_PATH: :/home/cries/.conda/envs/jeremie_env/lib/\n",
      "2023-01-09 03:34:34.486595: W tensorflow/compiler/xla/stream_executor/platform/default/dso_loader.cc:64] Could not load dynamic library 'libnvinfer_plugin.so.7'; dlerror: libnvinfer_plugin.so.7: cannot open shared object file: No such file or directory; LD_LIBRARY_PATH: :/home/cries/.conda/envs/jeremie_env/lib/\n",
      "2023-01-09 03:34:34.486605: W tensorflow/compiler/tf2tensorrt/utils/py_utils.cc:38] TF-TRT Warning: Cannot dlopen some TensorRT libraries. If you would like to use Nvidia GPU with TensorRT, please make sure the missing libraries mentioned above are installed properly.\n"
     ]
    }
   ],
   "source": [
    "import numpy as np\n",
    "import pandas as pd\n",
    "import seaborn as sns\n",
    "import matplotlib as mpl\n",
    "import matplotlib.pyplot as plt\n",
    "import matplotlib.image as mpimg\n",
    "import time\n",
    "from tqdm.notebook import tqdm\n",
    "import os\n",
    "\n",
    "# Keras\n",
    "import tensorflow as tf\n",
    "# import tensorflow_addons as tfa\n",
    "import tensorflow_hub as hub\n",
    "from tensorflow import keras\n",
    "from tensorflow.keras import *\n",
    "from tensorflow.keras.layers import *\n",
    "from tensorflow.keras.models import Model, Sequential, model_from_json, load_model\n",
    "# from tensorflow.keras.preprocessing import image_dataset_from_directory\n",
    "from keras.preprocessing.image import ImageDataGenerator\n",
    "from keras.callbacks import ModelCheckpoint,EarlyStopping,TensorBoard,CSVLogger,ReduceLROnPlateau\n",
    "from keras import backend as K\n",
    "from keras_retinanet import layers as rlayers\n",
    "\n",
    "\n",
    "import util\n",
    "from sklearn.metrics import confusion_matrix, classification_report\n",
    "from livelossplot import PlotLossesKeras\n",
    "from keras.initializers import RandomNormal"
   ]
  },
  {
   "cell_type": "code",
   "execution_count": 3,
   "id": "53ed3e15-4358-4f6d-8402-0f984ff083d5",
   "metadata": {
    "tags": []
   },
   "outputs": [
    {
     "data": {
      "text/plain": [
       "'2.11.0'"
      ]
     },
     "execution_count": 3,
     "metadata": {},
     "output_type": "execute_result"
    }
   ],
   "source": [
    "tf.__version__"
   ]
  },
  {
   "cell_type": "code",
   "execution_count": 4,
   "id": "936dfef0",
   "metadata": {
    "tags": []
   },
   "outputs": [
    {
     "name": "stdout",
     "output_type": "stream",
     "text": [
      "[PhysicalDevice(name='/physical_device:GPU:0', device_type='GPU'), PhysicalDevice(name='/physical_device:GPU:1', device_type='GPU'), PhysicalDevice(name='/physical_device:GPU:2', device_type='GPU')]\n",
      "Test built: True\n",
      "tf.keras code in this scope will run on GPU\n"
     ]
    },
    {
     "name": "stderr",
     "output_type": "stream",
     "text": [
      "2023-01-09 03:34:35.358009: I tensorflow/core/platform/cpu_feature_guard.cc:193] This TensorFlow binary is optimized with oneAPI Deep Neural Network Library (oneDNN) to use the following CPU instructions in performance-critical operations:  AVX2 FMA\n",
      "To enable them in other operations, rebuild TensorFlow with the appropriate compiler flags.\n",
      "2023-01-09 03:34:35.912246: I tensorflow/core/common_runtime/gpu/gpu_device.cc:1613] Created device /job:localhost/replica:0/task:0/device:GPU:0 with 9635 MB memory:  -> device: 1, name: NVIDIA GeForce RTX 2080 Ti, pci bus id: 0000:41:00.0, compute capability: 7.5\n"
     ]
    }
   ],
   "source": [
    "gpus = tf.config.list_physical_devices('GPU')\n",
    "print(gpus)\n",
    "for gpu in gpus:\n",
    "    tf.config.experimental.set_memory_growth(gpu, True)\n",
    "if gpus:\n",
    "    tf.config.set_visible_devices(gpus[1], 'GPU')\n",
    "\n",
    "print(\"Test built: {}\".format(tf.test.is_built_with_cuda()))\n",
    "with tf.device(\"gpu:0\"):\n",
    "   print(\"tf.keras code in this scope will run on GPU\")\n",
    "\n",
    "# mixed_precision.set_global_policy('mixed_float16')\n",
    "# mirrored_strategy = tf.distribute.MirroredStrategy()"
   ]
  },
  {
   "cell_type": "code",
   "execution_count": 5,
   "id": "53372361",
   "metadata": {
    "tags": []
   },
   "outputs": [
    {
     "name": "stdout",
     "output_type": "stream",
     "text": [
      "Leakage between train and test: False\n"
     ]
    }
   ],
   "source": [
    "if use_enchanced_dataset == True:\n",
    "    IMAGE_DIR = \"/home/cries/Dataset/X-Ray/full/enchanced/\"\n",
    "else:\n",
    "    IMAGE_DIR = \"/home/cries/Dataset/X-Ray/full/images/\"\n",
    "    \n",
    "if full_dataset == True:\n",
    "    train_df= pd.read_csv(\"/home/cries/Dataset/X-Ray/DataFrame/official_train.csv\")\n",
    "    test_df= pd.read_csv(\"/home/cries/Dataset/X-Ray/DataFrame/official_test.csv\")\n",
    "    labels = ['No Finding',\n",
    "          'Cardiomegaly', \n",
    "          'Emphysema', \n",
    "          'Effusion', \n",
    "          'Hernia', \n",
    "          'Infiltration', \n",
    "          'Mass', \n",
    "          'Nodule', \n",
    "          'Atelectasis',\n",
    "          'Pneumothorax',\n",
    "          'Pleural_Thickening', \n",
    "          'Pneumonia', \n",
    "          'Fibrosis', \n",
    "          'Edema', \n",
    "          'Consolidation']\n",
    "else:    \n",
    "    train_df= pd.read_csv(\"/home/cries/Dataset/X-Ray/DataFrame/\" + str(total_fold) + \"Fold/\" + \"train_Fold\" + str(n_fold) + \".csv\").loc[:,'Image Index':]\n",
    "    test_df= pd.read_csv(\"/home/cries/Dataset/X-Ray/DataFrame/\" + str(total_fold) + \"Fold/\" + \"test_Fold\" + str(n_fold) + \".csv\").loc[:,'Image Index':]\n",
    "    labels = ['No Findings',\n",
    "          'Cardiomegaly', \n",
    "          'Emphysema', \n",
    "          'Effusion', \n",
    "          'Hernia', \n",
    "          'Infiltration', \n",
    "          'Mass', \n",
    "          'Nodule', \n",
    "          'Atelectasis',\n",
    "          'Pneumothorax',\n",
    "          'Pleural_Thickening', \n",
    "          'Pneumonia', \n",
    "          'Fibrosis', \n",
    "          'Edema', \n",
    "          'Consolidation']\n",
    "\n",
    "print(\"Leakage between train and test: {}\".format(util.check_for_leakage(train_df, test_df, 'Image Index')))"
   ]
  },
  {
   "cell_type": "code",
   "execution_count": 6,
   "id": "612b0e99",
   "metadata": {
    "tags": []
   },
   "outputs": [],
   "source": [
    "# Setting\n",
    "seed= 1\n",
    "batch_size= 32\n",
    "# target_w= 320; target_h= 320; dim= (3,)\n",
    "target_w= 224; target_h= 224; dim= (3,)\n",
    "image_size_target= (target_w,target_h)\n",
    "image_shape= image_size_target + dim\n",
    "class_mode= 'raw'   # raw, categorical \n",
    "\n",
    "use_aug= False\n",
    "use_normalize= True\n",
    "index_col= \"Image Index\"\n",
    "labels_col= labels\n",
    "\n",
    "def prepare_generator(use_Aug, use_Normalize):\n",
    "    # == Aug Image\n",
    "    if use_Aug== True and use_Normalize== False:\n",
    "        return ImageDataGenerator(\n",
    "            rescale= 1./255,        \n",
    "            horizontal_flip= True,\n",
    "            # vertical_flip= False,\n",
    "            # shear_range=0.1,\n",
    "            # zoom_range=0.1,\n",
    "            # cval=0.0,\n",
    "            # fill_mode='constant',\n",
    "            # rotation_range = 10\n",
    "            )\n",
    "    # == Normalize Image\n",
    "    if use_Aug== False and use_Normalize== True:\n",
    "        return ImageDataGenerator(\n",
    "            rescale= 1./255,\n",
    "            # horizontal_flip=True,\n",
    "            samplewise_center= True,\n",
    "            samplewise_std_normalization= True\n",
    "            )\n",
    "    \n",
    "    # == Without\n",
    "    if use_Aug== False and use_Normalize== False:\n",
    "        return ImageDataGenerator(rescale= 1./255)\n",
    "    \n",
    "    if use_Aug== True and use_Normalize== True:\n",
    "        return ImageDataGenerator(\n",
    "            samplewise_center= True,\n",
    "            samplewise_std_normalization= True,\n",
    "            rescale= 1./255,        \n",
    "            horizontal_flip=True,\n",
    "            vertical_flip= False,\n",
    "            shear_range=0.1,\n",
    "            zoom_range=0.1,\n",
    "            cval=0.0,\n",
    "            fill_mode='constant',\n",
    "            rotation_range = 20\n",
    "            )"
   ]
  },
  {
   "cell_type": "code",
   "execution_count": 7,
   "id": "d3b674ac",
   "metadata": {
    "tags": []
   },
   "outputs": [
    {
     "name": "stdout",
     "output_type": "stream",
     "text": [
      "============ getting train generator ===========\n",
      "Found 86524 validated image filenames.\n",
      "\n",
      "==== getting train and test/valid generators ====\n",
      "Found 86524 validated image filenames.\n",
      "Found 25596 validated image filenames.\n"
     ]
    },
    {
     "name": "stderr",
     "output_type": "stream",
     "text": [
      "Clipping input data to the valid range for imshow with RGB data ([0..1] for floats or [0..255] for integers).\n"
     ]
    },
    {
     "data": {
      "image/png": "[encoded data removed]",
      "text/plain": [
       "<Figure size 200x200 with 1 Axes>"
      ]
     },
     "metadata": {},
     "output_type": "display_data"
    }
   ],
   "source": [
    "# === Image Train Generator\n",
    "print(\"============ getting train generator ===========\") \n",
    "image_train= prepare_generator(use_Aug=True, use_Normalize=True).flow_from_dataframe(\n",
    "    dataframe= train_df,\n",
    "    directory= IMAGE_DIR,\n",
    "    x_col= index_col,\n",
    "    y_col= labels,\n",
    "    class_mode= class_mode,\n",
    "    batch_size= batch_size,\n",
    "    shuffle= True,\n",
    "    target_size= image_size_target\n",
    ")\n",
    "\n",
    "# === Image Validation and Test Generator\n",
    "print(\"\")\n",
    "print(\"==== getting train and test/valid generators ====\")\n",
    "raw_train_generator= prepare_generator(False, False).flow_from_dataframe(\n",
    "                        dataframe= train_df,\n",
    "                        directory= IMAGE_DIR,\n",
    "                        x_col= index_col,\n",
    "                        y_col= labels,\n",
    "                        class_mode= class_mode,\n",
    "                        batch_size= batch_size,\n",
    "                        shuffle= True,\n",
    "                        target_size= image_size_target\n",
    "                    )\n",
    "batch= raw_train_generator.next()\n",
    "data_sample= batch[0]\n",
    "imagegenerator= prepare_generator(False, True)\n",
    "imagegenerator.fit(data_sample)\n",
    "image_val = imagegenerator.flow_from_dataframe(\n",
    "                        dataframe= test_df,\n",
    "                        directory= IMAGE_DIR,\n",
    "                        x_col= index_col,\n",
    "                        y_col= labels,\n",
    "                        class_mode= class_mode,\n",
    "                        batch_size= batch_size,\n",
    "                        shuffle= False,\n",
    "                        target_size= image_size_target\n",
    "                    )\n",
    "\n",
    "x, y = image_train.__getitem__(0)\n",
    "plt.figure(figsize=(2,2))\n",
    "plt.axis('off')\n",
    "plt.imshow(x[0]);"
   ]
  },
  {
   "cell_type": "code",
   "execution_count": 8,
   "id": "02c8da0b",
   "metadata": {
    "tags": []
   },
   "outputs": [
    {
     "data": {
      "image/png": "[encoded data removed]",
      "text/plain": [
       "<Figure size 1000x300 with 1 Axes>"
      ]
     },
     "metadata": {},
     "output_type": "display_data"
    }
   ],
   "source": [
    "plt.figure(figsize=(10,3))\n",
    "plt.xticks(rotation=90)\n",
    "plt.bar(x=labels, height=np.mean(image_train.labels, axis=0))\n",
    "plt.title(\"Frequency of Each Class\")\n",
    "plt.show()"
   ]
  },
  {
   "cell_type": "code",
   "execution_count": 9,
   "id": "a66c6c5b",
   "metadata": {
    "tags": []
   },
   "outputs": [
    {
     "data": {
      "text/plain": [
       "array([0.58365309, 0.01972863, 0.0164463 , 0.10007628, 0.00162961,\n",
       "       0.15928529, 0.0466229 , 0.05441265, 0.09569599, 0.03047709,\n",
       "       0.02591189, 0.01012436, 0.01445842, 0.01592622, 0.03296195])"
      ]
     },
     "execution_count": 9,
     "metadata": {},
     "output_type": "execute_result"
    }
   ],
   "source": [
    "def compute_class_freqs(labels):\n",
    "    # total number of patients (rows)\n",
    "    N = labels.shape[0]\n",
    "    positive_frequencies = np.sum(labels, axis = 0) / N\n",
    "    negative_frequencies = 1 - positive_frequencies\n",
    "    return positive_frequencies, negative_frequencies\n",
    "\n",
    "freq_pos, freq_neg = compute_class_freqs(image_train.labels)\n",
    "freq_pos"
   ]
  },
  {
   "cell_type": "code",
   "execution_count": 10,
   "id": "0bad2b61",
   "metadata": {
    "tags": []
   },
   "outputs": [
    {
     "name": "stderr",
     "output_type": "stream",
     "text": [
      "/tmp/ipykernel_6109/3905682285.py:2: FutureWarning: The frame.append method is deprecated and will be removed from pandas in a future version. Use pandas.concat instead.\n",
      "  data = data.append([{\"Class\": labels[l], \"Label\": \"Negative\", \"Value\": v} for l,v in enumerate(freq_neg)], ignore_index=True)\n"
     ]
    },
    {
     "data": {
      "image/png": "[encoded data removed]",
      "text/plain": [
       "<Figure size 1000x300 with 1 Axes>"
      ]
     },
     "metadata": {},
     "output_type": "display_data"
    }
   ],
   "source": [
    "data = pd.DataFrame({\"Class\": labels, \"Label\": \"Positive\", \"Value\": freq_pos})\n",
    "data = data.append([{\"Class\": labels[l], \"Label\": \"Negative\", \"Value\": v} for l,v in enumerate(freq_neg)], ignore_index=True)\n",
    "plt.figure(figsize=(10,3))\n",
    "plt.xticks(rotation=90)\n",
    "f = sns.barplot(x=\"Class\", y=\"Value\", hue=\"Label\" ,data=data)"
   ]
  },
  {
   "cell_type": "code",
   "execution_count": 11,
   "id": "b7428e90",
   "metadata": {
    "tags": []
   },
   "outputs": [
    {
     "name": "stderr",
     "output_type": "stream",
     "text": [
      "/tmp/ipykernel_6109/1531308047.py:7: FutureWarning: The frame.append method is deprecated and will be removed from pandas in a future version. Use pandas.concat instead.\n",
      "  data = data.append([{\"Class\": labels[l], \"Label\": \"Negative\", \"Value\": v}\n"
     ]
    },
    {
     "data": {
      "image/png": "[encoded data removed]",
      "text/plain": [
       "<Figure size 1000x300 with 1 Axes>"
      ]
     },
     "metadata": {},
     "output_type": "display_data"
    }
   ],
   "source": [
    "pos_weights = freq_neg\n",
    "neg_weights = freq_pos\n",
    "pos_contribution = freq_pos * pos_weights \n",
    "neg_contribution = freq_neg * neg_weights\n",
    "\n",
    "data = pd.DataFrame({\"Class\": labels, \"Label\": \"Positive\", \"Value\": pos_contribution})\n",
    "data = data.append([{\"Class\": labels[l], \"Label\": \"Negative\", \"Value\": v} \n",
    "                        for l,v in enumerate(neg_contribution)], ignore_index=True)\n",
    "plt.figure(figsize=(10,3))\n",
    "plt.xticks(rotation=90)\n",
    "sns.barplot(x=\"Class\", y=\"Value\", hue=\"Label\" ,data=data);"
   ]
  },
  {
   "cell_type": "code",
   "execution_count": null,
   "id": "9f2295fd-b282-4df0-8a61-0cf142e041a0",
   "metadata": {},
   "outputs": [],
   "source": []
  },
  {
   "cell_type": "code",
   "execution_count": 12,
   "id": "578eae19-70df-480a-915e-a178ce3b16e1",
   "metadata": {
    "tags": []
   },
   "outputs": [],
   "source": [
    "class_weights = util.generate_class_weights(image_train.labels, multi_class=False, one_hot_encoded=True)"
   ]
  },
  {
   "cell_type": "code",
   "execution_count": 13,
   "id": "34a75cbd-3e6b-4935-91fa-d77c33c82a4a",
   "metadata": {
    "tags": []
   },
   "outputs": [
    {
     "data": {
      "text/plain": [
       "{0: 0.11422310231023103,\n",
       " 1: 3.3791837531732085,\n",
       " 2: 4.05359568985711,\n",
       " 3: 0.6661585248489048,\n",
       " 4: 40.9096926713948,\n",
       " 5: 0.41853625501862335,\n",
       " 6: 1.4299124111717072,\n",
       " 7: 1.2252053242707448,\n",
       " 8: 0.6966505636070853,\n",
       " 9: 2.187435216786753,\n",
       " 10: 2.5728218852215283,\n",
       " 11: 6.584779299847793,\n",
       " 12: 4.610924593658407,\n",
       " 13: 4.185970004837929,\n",
       " 14: 2.022533894343151}"
      ]
     },
     "execution_count": 13,
     "metadata": {},
     "output_type": "execute_result"
    }
   ],
   "source": [
    "class_weights"
   ]
  },
  {
   "cell_type": "code",
   "execution_count": 14,
   "id": "4a3d3f68-2c52-41b4-be2b-0a9cce52b32d",
   "metadata": {
    "tags": []
   },
   "outputs": [
    {
     "data": {
      "text/plain": [
       "(224, 224, 3)"
      ]
     },
     "execution_count": 14,
     "metadata": {},
     "output_type": "execute_result"
    }
   ],
   "source": [
    "image_shape"
   ]
  },
  {
   "cell_type": "code",
   "execution_count": null,
   "id": "fb5447d9",
   "metadata": {
    "tags": []
   },
   "outputs": [],
   "source": []
  },
  {
   "cell_type": "code",
   "execution_count": 15,
   "id": "7674bb3e-aa68-42f9-bd52-807f16325506",
   "metadata": {
    "tags": []
   },
   "outputs": [
    {
     "data": {
      "text/plain": [
       "15"
      ]
     },
     "execution_count": 15,
     "metadata": {},
     "output_type": "execute_result"
    }
   ],
   "source": [
    "num_class = len(labels)\n",
    "num_class"
   ]
  },
  {
   "cell_type": "code",
   "execution_count": null,
   "id": "3038b3a5-4fd6-4945-99b4-edb0bb6465d8",
   "metadata": {},
   "outputs": [],
   "source": []
  },
  {
   "cell_type": "code",
   "execution_count": 16,
   "id": "66d92903-68db-4590-b30b-dee0096c6d9c",
   "metadata": {
    "tags": []
   },
   "outputs": [],
   "source": [
    "def mlp(x, hidden_units, dropout_rate):\n",
    "    for units in hidden_units:\n",
    "        x = layers.Dense(units, activation=tf.nn.gelu)(x)\n",
    "        x = layers.Dropout(dropout_rate)(x)\n",
    "    return x"
   ]
  },
  {
   "cell_type": "code",
   "execution_count": 17,
   "id": "768ebdcc-ee77-4708-84f3-bc7c07966855",
   "metadata": {
    "tags": []
   },
   "outputs": [],
   "source": [
    "class Patches(layers.Layer):\n",
    "    def __init__(self, patch_size):\n",
    "        super(Patches, self).__init__()\n",
    "        self.patch_size = patch_size\n",
    "        \n",
    "    def get_config(self):\n",
    "        config = super().get_config()\n",
    "        config.update({\n",
    "            \"patch_size\": self.patch_size\n",
    "        })\n",
    "        return config\n",
    "\n",
    "    def call(self, images):\n",
    "        batch_size = tf.shape(images)[0]\n",
    "        patches = tf.image.extract_patches(\n",
    "            images=images,\n",
    "            sizes=[1, self.patch_size, self.patch_size, 1],\n",
    "            strides=[1, self.patch_size, self.patch_size, 1],\n",
    "            rates=[1, 1, 1, 1],\n",
    "            padding=\"VALID\",\n",
    "        )\n",
    "        patch_dims = patches.shape[-1]\n",
    "        patches = tf.reshape(patches, [batch_size, -1, patch_dims])\n",
    "        return patches"
   ]
  },
  {
   "cell_type": "code",
   "execution_count": 18,
   "id": "f53d0e4f-8158-4470-a06b-e67d1013cc3c",
   "metadata": {
    "tags": []
   },
   "outputs": [],
   "source": [
    "class PatchEncoder(layers.Layer):\n",
    "    def __init__(self, num_patches, projection_dim):\n",
    "        super(PatchEncoder, self).__init__()\n",
    "        self.num_patches = num_patches\n",
    "        self.projection = layers.Dense(units=projection_dim)\n",
    "        self.position_embedding = layers.Embedding(\n",
    "            input_dim=num_patches, output_dim=projection_dim\n",
    "        )\n",
    "        \n",
    "    def get_config(self):\n",
    "        config = super().get_config()\n",
    "        config.update({\n",
    "            \"num_patches\": self.num_patches\n",
    "        })\n",
    "        return config\n",
    "\n",
    "    def call(self, patch):\n",
    "        positions = tf.range(start=0, limit=self.num_patches, delta=1)\n",
    "        encoded = self.projection(patch) + self.position_embedding(positions)\n",
    "        return encoded"
   ]
  },
  {
   "cell_type": "code",
   "execution_count": 19,
   "id": "c0c669a7-5334-4f5f-b08b-a45245050910",
   "metadata": {
    "tags": []
   },
   "outputs": [],
   "source": [
    "def create_vit_classifier(layer, final_act, num):\n",
    "    inputs = layer\n",
    "    \n",
    "    if layer.shape[1] == 7:\n",
    "        image_size = 15  # We'll resize input images to this size\n",
    "        patch_size = 5  # Size of the patches to be extract from the input images\n",
    "    elif layer.shape[1] <= 4:\n",
    "        image_size = 8  # We'll resize input images to this size\n",
    "        patch_size = 4  # Size of the patches to be extract from the input images\n",
    "    elif layer.shape[1] == 10 or layer.shape[1] == 12:\n",
    "        image_size = 20  # We'll resize input images to this size\n",
    "        patch_size = 5  # Size of the patches to be extract from the input images\n",
    "    elif layer.shape[1] >=54:\n",
    "        image_size = 54  # We'll resize input images to this size\n",
    "        patch_size = 9  # Size of the patches to be extract from the input images\n",
    "        \n",
    "    num_patches = (image_size // patch_size) ** 2\n",
    "    projection_dim = 64\n",
    "    num_heads = 4\n",
    "    transformer_units = [\n",
    "        projection_dim * 2,\n",
    "        projection_dim,\n",
    "    ]  # Size of the transformer layers\n",
    "    transformer_layers = 8\n",
    "    mlp_head_units = [2048, 1024]\n",
    "    \n",
    "    # Augment data.\n",
    "    augmented = keras.Sequential(\n",
    "    [\n",
    "        # layers.Normalization(),\n",
    "        layers.Resizing(image_size, image_size)\n",
    "    ],\n",
    "    name=f\"data_augmentation_{num}\")(inputs)\n",
    "    # Create patches.\n",
    "    patches = Patches(patch_size)(augmented)\n",
    "    # Encode patches.\n",
    "    encoded_patches = PatchEncoder(num_patches, projection_dim)(patches)\n",
    "\n",
    "    # Create multiple layers of the Transformer block.\n",
    "    for _ in range(transformer_layers):\n",
    "        # Layer normalization 1.\n",
    "        x1 = layers.LayerNormalization(epsilon=1e-6)(encoded_patches)\n",
    "        # Create a multi-head attention layer.\n",
    "        attention_output = layers.MultiHeadAttention(\n",
    "            num_heads=num_heads, key_dim=projection_dim, dropout=0.1\n",
    "        )(x1, x1)\n",
    "        # Skip connection 1.\n",
    "        x2 = layers.Add()([attention_output, encoded_patches])\n",
    "        # Layer normalization 2.\n",
    "        x3 = layers.LayerNormalization(epsilon=1e-6)(x2)\n",
    "        # MLP.\n",
    "        x3 = mlp(x3, hidden_units=transformer_units, dropout_rate=0.1)\n",
    "        # Skip connection 2.\n",
    "        encoded_patches = layers.Add()([x3, x2])\n",
    "\n",
    "    # Create a [batch_size, projection_dim] tensor.\n",
    "    representation = layers.LayerNormalization(epsilon=1e-6)(encoded_patches)\n",
    "    representation = layers.Flatten()(representation)\n",
    "    representation = layers.Dropout(0.5)(representation)\n",
    "    # Add MLP.\n",
    "    features = mlp(representation, hidden_units=mlp_head_units, dropout_rate=0.5)\n",
    "    # Classify outputs.\n",
    "    prediction = layers.Dense(2048, activation=final_act)(features)\n",
    "    # Create the Keras model.\n",
    "    # model = keras.Model(inputs=inputs, outputs=logits)\n",
    "    return prediction"
   ]
  },
  {
   "cell_type": "code",
   "execution_count": null,
   "id": "582b4141-84c8-4b74-bb23-e6fdb19263a6",
   "metadata": {},
   "outputs": [],
   "source": []
  },
  {
   "cell_type": "code",
   "execution_count": null,
   "id": "3599c2a6-e804-421d-b1dd-73f9c5a059af",
   "metadata": {},
   "outputs": [],
   "source": []
  },
  {
   "cell_type": "code",
   "execution_count": 20,
   "id": "54d5a483-5f5b-48b8-a1b4-07ef532d11f7",
   "metadata": {
    "tags": []
   },
   "outputs": [],
   "source": [
    "def mlp_head(x, depth=[128, 128], dropout_rate=0.3):\n",
    "    for units in depth:\n",
    "        x = Dropout(dropout_rate)(x)\n",
    "        x = layers.Dense(units, activation='selu')(x)\n",
    "        # x = BatchNormalization()(x)\n",
    "        # x = Dropout(dropout_rate)(x)\n",
    "        # x = Flatten()(x)\n",
    "    return x"
   ]
  },
  {
   "cell_type": "code",
   "execution_count": 21,
   "id": "727a66e9-a971-45b6-af07-888643be2982",
   "metadata": {},
   "outputs": [],
   "source": [
    "inputs = Input(shape=image_shape)"
   ]
  },
  {
   "cell_type": "code",
   "execution_count": 22,
   "id": "ddbd0ba8-0b94-4d7f-ab6d-a3de9910a2a9",
   "metadata": {},
   "outputs": [],
   "source": [
    "weights_path = '/home/cries/Workshop/X-Ray/TransX-Ray/jeremie/chexnet_pretrained/brucechou1983_CheXNet_Keras_0.3.0_weights.h5'\n",
    "mdl = tf.keras.applications.DenseNet121(weights=weights_path, include_top=True, classes=14, input_tensor=inputs)\n",
    "\n",
    "base_model = Model(inputs=inputs, outputs=mdl.layers[-3].output)\n",
    "base_model.trainable = False"
   ]
  },
  {
   "cell_type": "code",
   "execution_count": 23,
   "id": "e0b9f7f1-2e4c-4f1e-927b-2572155d9d36",
   "metadata": {},
   "outputs": [],
   "source": [
    "# keras.utils.plot_model(base_model)"
   ]
  },
  {
   "cell_type": "code",
   "execution_count": 24,
   "id": "a8ace8b8-7e16-4d03-8108-ee7a6f214253",
   "metadata": {},
   "outputs": [],
   "source": [
    "layer_names = [\"pool2_conv\", \"pool3_conv\", \"pool4_conv\", \"relu\"]\n",
    "\n",
    "layer_outputs = [base_model.get_layer(name).output for name in layer_names]\n",
    "x1, x2, x3, x4=layer_outputs\n",
    "\n",
    "x = BatchNormalization()(x4)\n",
    "# x = GlobalMaxPooling2D()(x)"
   ]
  },
  {
   "cell_type": "code",
   "execution_count": 25,
   "id": "0054bc9a-f972-4f51-bfdc-0cd7255e4856",
   "metadata": {},
   "outputs": [],
   "source": [
    "factor = 1"
   ]
  },
  {
   "cell_type": "code",
   "execution_count": 26,
   "id": "d4e112f0-33dd-466b-8334-5fe275cd6eb7",
   "metadata": {},
   "outputs": [],
   "source": [
    "feature_size = 256*factor\n",
    "\n",
    "P6 = Conv2D(feature_size, kernel_size=3, strides=2, padding='same')(x4)\n",
    "\n",
    "P7 = Conv2D(feature_size, kernel_size=3, strides=2, padding='same', activation='relu')(P6)\n",
    "\n",
    "P5 = Conv2D(feature_size, kernel_size=1, strides=1, padding='same')(x4) # up\n",
    "P5_UP = rlayers.UpsampleLike()([P5, x3])\n",
    "P5 = Conv2D(feature_size, kernel_size=3, strides=1, padding='same')(P5)\n",
    "\n",
    "P4 = Conv2D(feature_size, kernel_size=1, strides=1, padding='same')(x3) # up\n",
    "P4 = Concatenate(axis=3)([P5_UP, P4])\n",
    "P4_UP = rlayers.UpsampleLike()([P4, x2])\n",
    "P4 = Conv2D(feature_size, kernel_size=3, strides=1, padding='valid')(P4)\n",
    "\n",
    "P3 = Conv2D(feature_size, kernel_size=1, strides=1, padding='same')(x2) # up\n",
    "P3 = Concatenate(axis=3)([P4_UP, P3])\n",
    "P3_UP = rlayers.UpsampleLike()([P3, x1])\n",
    "P3 = Conv2D(feature_size, kernel_size=3, strides=1, padding='valid')(P4)\n",
    "\n",
    "P2 = Conv2D(feature_size, kernel_size=1, strides=1, padding='same')(x1) # up\n",
    "P2 = Concatenate(axis=3)([P3_UP, P2])\n",
    "P2 = Conv2D(feature_size, kernel_size=3, strides=1, padding='valid')(P2)"
   ]
  },
  {
   "cell_type": "code",
   "execution_count": 27,
   "id": "162c1cbf-0c9e-4510-9934-62ac20b67317",
   "metadata": {},
   "outputs": [],
   "source": [
    "# hidden_units = [num_class]\n",
    "\n",
    "# f0 = mlp_head(x, depth=hidden_units, dropout_rate=0.5)\n",
    "f0 = create_vit_classifier(x, final_act=\"selu\", num=0)\n",
    "\n",
    "f1 = BatchNormalization()(P2)\n",
    "# f1 = GlobalMaxPooling2D()(f1)\n",
    "# f1 = mlp_head(f1, depth=hidden_units, dropout_rate=0.5)\n",
    "f1 = create_vit_classifier(f1, final_act=\"selu\", num=1)\n",
    "\n",
    "f2 = BatchNormalization()(P3)\n",
    "# f2 = GlobalMaxPooling2D()(f2)\n",
    "# f2 = mlp_head(f2, depth=hidden_units, dropout_rate=0.5)\n",
    "f2 = create_vit_classifier(f2, final_act=\"selu\", num=2)\n",
    "\n",
    "f3 = BatchNormalization()(P4)\n",
    "# f3 = GlobalMaxPooling2D()(f3)\n",
    "# f3 = mlp_head(f3, depth=hidden_units, dropout_rate=0.5)\n",
    "f3 = create_vit_classifier(f3, final_act=\"selu\", num=3)\n",
    "\n",
    "f4 = BatchNormalization()(P5)\n",
    "# f4 = GlobalMaxPooling2D()(f4)\n",
    "# f4 = mlp_head(f4, depth=hidden_units, dropout_rate=0.5)\n",
    "f4 = create_vit_classifier(f4, final_act=\"selu\", num=4)\n",
    "\n",
    "f5 = BatchNormalization()(P6)\n",
    "# f5 = GlobalMaxPooling2D()(f5)\n",
    "# f5 = mlp_head(f5, depth=hidden_units, dropout_rate=0.5)\n",
    "f5 = create_vit_classifier(f5, final_act=\"selu\", num=5)\n",
    "\n",
    "f6 = BatchNormalization()(P7)\n",
    "# f6 = GlobalMaxPooling2D()(f6)\n",
    "# f6 = mlp_head(f6, depth=hidden_units, dropout_rate=0.5)\n",
    "f6 = create_vit_classifier(f6, final_act=\"selu\", num=6)\n",
    "\n",
    "head = Concatenate()([f0, f1, f2, f3, f4, f5, f6])\n",
    "# head = Concatenate()([f1, f2, f3, f4, f5, f6])\n",
    "head = BatchNormalization()(head)\n",
    "\n",
    "head = mlp_head(head, depth= [2048*factor, 1024*factor], dropout_rate=0.0)\n",
    "\n",
    "predictions = Dense(num_class, activation='sigmoid', dtype=tf.float32)(head)\n",
    "model = Model(inputs=inputs, outputs=predictions) "
   ]
  },
  {
   "cell_type": "code",
   "execution_count": 28,
   "id": "4cacd67c-0a0d-4f90-8c02-f72f8d00af8b",
   "metadata": {},
   "outputs": [
    {
     "data": {
      "text/plain": [
       "97844495"
      ]
     },
     "execution_count": 28,
     "metadata": {},
     "output_type": "execute_result"
    }
   ],
   "source": [
    "model.count_params()"
   ]
  },
  {
   "cell_type": "code",
   "execution_count": 29,
   "id": "48f7269b-015a-4be8-88bf-20f838f37fb9",
   "metadata": {
    "tags": []
   },
   "outputs": [],
   "source": [
    "output_dir = './output_weights/{}'.format(model_name)\n",
    "weight_path = '{}_ckp_weights.h5'.format(model_name)\n",
    "\n",
    "output_weights_path = os.path.join(output_dir, weight_path)\n",
    "\n",
    "if not os.path.isdir(output_dir):\n",
    "        os.makedirs(output_dir)\n",
    "\n",
    "\n",
    "adaptive_lr = ReduceLROnPlateau(monitor='val_loss', factor=0.1, patience=5, verbose=1, mode=\"min\") "
   ]
  },
  {
   "cell_type": "code",
   "execution_count": 30,
   "id": "b71a2fd2-fe3b-4457-82f4-70240e4733c8",
   "metadata": {},
   "outputs": [
    {
     "name": "stdout",
     "output_type": "stream",
     "text": [
      "WARNING:tensorflow:`period` argument is deprecated. Please use `save_freq` to specify the frequency in number of batches seen.\n"
     ]
    }
   ],
   "source": [
    "epoch = 100\n",
    "\n",
    "lr = 0.0001\n",
    "decay_rate = lr / epoch\n",
    "momentum = 0.99\n",
    "adam = tf.keras.optimizers.Adam(learning_rate=lr, weight_decay=decay_rate, epsilon=1e-07, amsgrad=False)\n",
    "sgd = tf.keras.optimizers.legacy.SGD(learning_rate=lr, momentum=momentum, decay=decay_rate, nesterov=False)\n",
    "checkpoint = ModelCheckpoint(output_weights_path, monitor='val_loss', verbose=1, save_best_only=True, mode='auto', period=1)\n",
    "\n",
    "# class_weigths = dict(zip(range(len(neg_weights)), neg_weights))\n",
    "# weighted_loss = get_weighted_loss(pos_weights, neg_weights)\n",
    "bce_ls = tf.keras.losses.BinaryCrossentropy(label_smoothing=0.0)\n",
    "\n",
    "metric_auc = tf.keras.metrics.AUC(multi_label=True)\n",
    "\n",
    "# tf.config.optimizer.set_jit(True)\n",
    "model.compile(loss=bce_ls, optimizer=sgd, metrics=[metric_auc])"
   ]
  },
  {
   "cell_type": "code",
   "execution_count": null,
   "id": "986f9abb",
   "metadata": {
    "tags": []
   },
   "outputs": [
    {
     "data": {
      "image/png": "[encoded data removed]",
      "text/plain": [
       "<Figure size 1200x800 with 2 Axes>"
      ]
     },
     "metadata": {},
     "output_type": "display_data"
    },
    {
     "name": "stdout",
     "output_type": "stream",
     "text": [
      "auc\n",
      "\ttraining         \t (min:    0.620, max:    0.784, cur:    0.784)\n",
      "\tvalidation       \t (min:    0.782, max:    0.833, cur:    0.833)\n",
      "Loss\n",
      "\ttraining         \t (min:    0.166, max:    0.264, cur:    0.166)\n",
      "\tvalidation       \t (min:    0.312, max:    0.566, cur:    0.312)\n",
      "2704/2704 [==============================] - 2293s 848ms/step - loss: 0.1660 - auc: 0.7844 - val_loss: 0.3115 - val_auc: 0.8334\n",
      "Epoch 18/100\n",
      "2001/2704 [=====================>........] - ETA: 8:23 - loss: 0.1657 - auc: 0.7860"
     ]
    }
   ],
   "source": [
    "start = time.time() \n",
    "history = model.fit(image_train, epochs=epoch, validation_data=image_val, callbacks=[checkpoint,PlotLossesKeras()],verbose=1)\n",
    "end_train = time.time() - start"
   ]
  },
  {
   "cell_type": "code",
   "execution_count": null,
   "id": "ca05d793-fbf4-485b-94cc-543b4c149996",
   "metadata": {},
   "outputs": [],
   "source": [
    "print(\"=========== TRAINING ENDED IN {} min ================\".format(end_train/60))"
   ]
  },
  {
   "cell_type": "code",
   "execution_count": null,
   "id": "2f46c5dd",
   "metadata": {
    "tags": []
   },
   "outputs": [],
   "source": [
    "save_model_path = os.path.join(output_dir, 'model_{}'.format(model_name))\n",
    "model.save(save_model_path)"
   ]
  },
  {
   "cell_type": "code",
   "execution_count": null,
   "id": "dfed547c",
   "metadata": {
    "tags": []
   },
   "outputs": [],
   "source": [
    "final_weight_model_path = os.path.join(output_dir, '{}_weights.h5'.format(model_name))\n",
    "model.save_weights(final_weight_model_path)\n",
    "file_stats = os.stat(final_weight_model_path)\n",
    "model_size = round(file_stats.st_size / (1024 * 1024), 2)\n",
    "model_parameter = model.count_params()"
   ]
  },
  {
   "cell_type": "code",
   "execution_count": null,
   "id": "e262f6d7-7f3a-4cce-b278-d225682618b2",
   "metadata": {},
   "outputs": [],
   "source": [
    "model_parameter"
   ]
  },
  {
   "cell_type": "code",
   "execution_count": null,
   "id": "eb7ce26a",
   "metadata": {
    "tags": []
   },
   "outputs": [],
   "source": [
    "import pickle\n",
    "\n",
    "with open('trainHistoryDict', 'wb') as file_pi:\n",
    "        pickle.dump(history.history, file_pi)"
   ]
  },
  {
   "cell_type": "code",
   "execution_count": null,
   "id": "d1dadb25-39ee-4513-a171-ddb8f964129f",
   "metadata": {},
   "outputs": [],
   "source": [
    "save_model_path"
   ]
  },
  {
   "cell_type": "code",
   "execution_count": null,
   "id": "5bca88f5",
   "metadata": {
    "tags": []
   },
   "outputs": [],
   "source": [
    "#Load Model\n",
    "from tensorflow import keras\n",
    "# model_fusion = keras.models.load_model(save_model_path, custom_objects={\n",
    "#     \"binary_crossentropy_weighted_loss\": util.set_binary_crossentropy_weighted_loss})"
   ]
  },
  {
   "cell_type": "code",
   "execution_count": null,
   "id": "cde6c093-5d65-43c7-9c7e-e42d1ddf44df",
   "metadata": {},
   "outputs": [],
   "source": [
    "model_fusion = keras.models.load_model(save_model_path)"
   ]
  },
  {
   "cell_type": "code",
   "execution_count": null,
   "id": "448bb8d8-567f-4250-8a1c-4e3ff989d7be",
   "metadata": {},
   "outputs": [],
   "source": [
    "start = time.time() \n",
    "predicted_vals = model_fusion.predict_generator(image_val)\n",
    "end_test = time.time() - start"
   ]
  },
  {
   "cell_type": "code",
   "execution_count": null,
   "id": "86268429-51e9-48e4-87fd-0a164283a3ce",
   "metadata": {
    "tags": []
   },
   "outputs": [],
   "source": [
    "auc_rocs = util.get_roc_curve(labels, predicted_vals, image_val)"
   ]
  },
  {
   "cell_type": "code",
   "execution_count": null,
   "id": "04b5db32-0b36-4ca2-8d03-1444c2af80e9",
   "metadata": {},
   "outputs": [],
   "source": [
    "res_auroc = dict(zip(labels, auc_rocs))\n",
    "res_auroc"
   ]
  },
  {
   "cell_type": "code",
   "execution_count": null,
   "id": "2d2e4258-f31c-439d-806b-f18d2b7206d5",
   "metadata": {},
   "outputs": [],
   "source": [
    "mean_auroc = np.mean(auc_rocs)\n",
    "print(\"Mean AUC: {}\".format(mean_auroc))"
   ]
  },
  {
   "cell_type": "code",
   "execution_count": null,
   "id": "f9dce8c5-d52f-4e6c-b328-537c8862f155",
   "metadata": {},
   "outputs": [],
   "source": [
    "Result = [mean_auroc, res_auroc, epoch, end_train, end_test, model_size, model_parameter]\n",
    "colname = ['mean_auroc', 'res_auroc', 'epoch', 'end_train', 'end_test', 'model_size', 'model_parameter']\n",
    "\n",
    "save_result_path = os.path.join(output_dir, \"full_{}.csv\".format(model_name))\n",
    "pd.DataFrame([Result], columns=colname).to_csv(save_result_path, index=False)"
   ]
  },
  {
   "cell_type": "code",
   "execution_count": null,
   "id": "dde830f6-9ced-4b64-a23d-1d5e288db144",
   "metadata": {
    "tags": []
   },
   "outputs": [],
   "source": [
    "from numba import cuda \n",
    "device = cuda.get_current_device()\n",
    "device.reset()\n",
    "print(device)"
   ]
  },
  {
   "cell_type": "code",
   "execution_count": null,
   "id": "47477536",
   "metadata": {},
   "outputs": [],
   "source": [
    "# from sklearn.metrics import confusion_matrix\n",
    "# from sklearn.metrics import classification_report\n",
    "# from sklearn.metrics import precision_score\n",
    "# from sklearn.metrics import recall_score\n",
    "# from sklearn.metrics import multilabel_confusion_matrix\n",
    "# from sklearn.metrics import f1_score\n",
    "# from sklearn.metrics import accuracy_score\n",
    "\n",
    "# start = time.time()\n",
    "# y_prob = model_fusion.predict(image_val)\n",
    "# end_test = time.time() - start\n",
    "\n",
    "# y_pred = np.argmax(y_prob, axis=1)\n",
    "# y_true = image_val.classes\n",
    "\n",
    "# print(\"Precision:\", precision_score(y_true, y_pred, average='weighted'), \"Recall:\", recall_score(y_true, y_pred, average='weighted'))\n",
    "\n",
    "# cm = multilabel_confusion_matrix(y_true, y_pred)\n",
    "\n",
    "# a = []\n",
    "\n",
    "# for i in range(len(cm)):\n",
    "#     a.append(cm[i].ravel())\n",
    "\n",
    "# tp, fn, fp, tn =np.sum(np.array(a), axis = 0)\n",
    "\n",
    "# print(\"tp, fn, fp, tn:\", tp, fn, fp, tn)\n",
    "\n",
    "# print(\"Specificity:\", tn / (tn+fp), \"Sensitivity:\", tp / (tp+fn))\n",
    "# print(\"F1-Score:\", f1_score(y_true, y_pred, average='weighted'), \"Accuracy:\", accuracy_score(y_true, y_pred))\n",
    "\n",
    "# Specificty = tn / (tn+fp)\n",
    "# Sensitivity = tp / (tp+fn)\n",
    "# F1_Score = f1_score(y_true, y_pred, average='weighted')\n",
    "# Accuracy = accuracy_score(y_true, y_pred)"
   ]
  },
  {
   "cell_type": "code",
   "execution_count": null,
   "id": "4ba4216e",
   "metadata": {},
   "outputs": [],
   "source": [
    "# result = [y_true, y_pred]\n",
    "# pd.DataFrame(result).to_csv(\"{}_{}_result.csv\".format(model_name, n_fold))\n",
    "# pd.DataFrame(y_prob).to_csv(\"{}_{}_probability.csv\".format(model_name, n_fold))"
   ]
  },
  {
   "cell_type": "code",
   "execution_count": null,
   "id": "60eece65",
   "metadata": {},
   "outputs": [],
   "source": [
    "# from sklearn.metrics import roc_curve\n",
    "# from sklearn.metrics import roc_auc_score\n",
    "\n",
    "# fpr_keras, tpr_keras, thresholds_keras = roc_curve(y_true, y_pred)\n",
    "# m_auc = roc_auc_score(y_true, y_pred)\n",
    "\n",
    "# print(fpr_keras, tpr_keras, thresholds_keras, m_auc)\n",
    "\n",
    "# from sklearn.metrics import auc\n",
    "# auc_keras = auc(fpr_keras, tpr_keras)\n",
    "# print(auc_keras)"
   ]
  },
  {
   "cell_type": "code",
   "execution_count": null,
   "id": "0636b47a",
   "metadata": {},
   "outputs": [],
   "source": [
    "# # keep probabilities for the positive outcome only\n",
    "# lr_probs = y_prob[:, 1]\n",
    "# lr_auc = roc_auc_score(y_true, lr_probs)\n",
    "# print('Model Fusion: ROC AUC=%.3f' % (lr_auc))\n",
    "\n",
    "# lr_fpr, lr_tpr, _ = roc_curve(y_true, lr_probs)\n",
    "\n",
    "# plt.figure(figsize=(10, 10))\n",
    "# font={'size':'15'}\n",
    "# plt.rc('font',**font)\n",
    "\n",
    "# plt.plot([0, 1], [0, 1], 'k--', label='No Skill')\n",
    "# plt.plot(lr_fpr, lr_tpr, marker='.', label='{} Model ROC curve (area = %0.2f)'.format(model_name) % lr_auc)\n",
    "\n",
    "# roc_auc = [lr_fpr, lr_fpr]\n",
    "# pd.DataFrame(roc_auc).to_csv(\"{}_roc_auc.csv\".format(model_name))\n",
    "\n",
    "# # axis labels\n",
    "# plt.xlabel('False Positive Rate')\n",
    "# plt.ylabel('True Positive Rate')\n",
    "# # show the legend\n",
    "# plt.legend()\n",
    "\n",
    "# AUC_Score = lr_auc"
   ]
  },
  {
   "cell_type": "code",
   "execution_count": null,
   "id": "c9a6ace7",
   "metadata": {},
   "outputs": [],
   "source": [
    "# Result = [Specificty, Sensitivity, F1_Score, Accuracy, AUC_Score, end_train, end_test, model_size, model_parameter]\n",
    "# colname = ['Specificty', 'Sensitivity', 'F1_Score', 'Accuracy', 'AUC_Score', 'end_train', 'end_test', 'model_size', 'model_parameter']\n",
    "\n",
    "# pd.DataFrame([Result], columns=colname).to_csv(\"{}_fold_\".format(model_name)+str(n_fold)+\".csv\")"
   ]
  },
  {
   "cell_type": "code",
   "execution_count": null,
   "id": "9056cae9",
   "metadata": {},
   "outputs": [],
   "source": [
    "# from sklearn.metrics import ConfusionMatrixDisplay\n",
    "# from sklearn.metrics import confusion_matrix\n",
    "# import matplotlib.pyplot as plt\n",
    "\n",
    "# plt.figure(figsize=(15, 15))\n",
    "\n",
    "# labels = [\"Sperm\", \"Impurity\"]\n",
    "# cm = confusion_matrix(y_true, y_pred)\n",
    "# disp = ConfusionMatrixDisplay(confusion_matrix=cm, display_labels=labels)\n",
    "\n",
    "# plt.rcParams['figure.figsize']=[15,15]\n",
    "# font={'size':'30'}\n",
    "# plt.rc('font',**font)\n",
    "# disp.plot(cmap=plt.cm.Blues)"
   ]
  },
  {
   "cell_type": "code",
   "execution_count": null,
   "id": "27757846-d52f-411a-ad6c-c8cfb460fa2d",
   "metadata": {},
   "outputs": [],
   "source": []
  }
 ],
 "metadata": {
  "kernelspec": {
   "display_name": "jeremie_env",
   "language": "python",
   "name": "jeremie_env"
  },
  "language_info": {
   "codemirror_mode": {
    "name": "ipython",
    "version": 3
   },
   "file_extension": ".py",
   "mimetype": "text/x-python",
   "name": "python",
   "nbconvert_exporter": "python",
   "pygments_lexer": "ipython3",
   "version": "3.9.0"
  },
  "widgets": {
   "application/vnd.jupyter.widget-state+json": {
    "state": {},
    "version_major": 2,
    "version_minor": 0
   }
  }
 },
 "nbformat": 4,
 "nbformat_minor": 5
}
