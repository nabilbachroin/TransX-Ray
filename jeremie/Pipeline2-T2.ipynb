{
 "cells": [
  {
   "cell_type": "code",
   "execution_count": 1,
   "id": "a0e2109f",
   "metadata": {
    "tags": []
   },
   "outputs": [],
   "source": [
    "n_fold= 1\n",
    "total_fold= '5'\n",
    "use_enchanced_dataset= False\n",
    "model_name= \"T2\""
   ]
  },
  {
   "cell_type": "code",
   "execution_count": 2,
   "id": "5477ca1e-19f8-49f1-aaac-01cf171a7949",
   "metadata": {
    "tags": []
   },
   "outputs": [],
   "source": [
    "import numpy as np\n",
    "import pandas as pd\n",
    "import seaborn as sns\n",
    "import matplotlib as mpl\n",
    "import matplotlib.pyplot as plt\n",
    "import matplotlib.image as mpimg\n",
    "import time\n",
    "from tqdm.notebook import tqdm\n",
    "import os\n",
    "\n",
    "# Keras\n",
    "import tensorflow as tf\n",
    "# import tensorflow_addons as tfa\n",
    "import tensorflow_hub as hub\n",
    "from tensorflow import keras\n",
    "from tensorflow.keras import *\n",
    "from tensorflow.keras.layers import *\n",
    "from tensorflow.keras.models import Model, Sequential, model_from_json, load_model\n",
    "# from tensorflow.keras.preprocessing import image_dataset_from_directory\n",
    "from keras.preprocessing.image import ImageDataGenerator\n",
    "from keras.callbacks import ModelCheckpoint,EarlyStopping,TensorBoard,CSVLogger,ReduceLROnPlateau\n",
    "from keras import backend as K\n",
    "#from keras.applications.densenet import DenseNet121\n",
    "\n",
    "import util\n",
    "from sklearn.metrics import confusion_matrix, classification_report\n",
    "from livelossplot import PlotLossesKeras\n",
    "from keras.initializers import RandomNormal\n",
    "from swintransformer import SwinTransformer"
   ]
  },
  {
   "cell_type": "code",
   "execution_count": 3,
   "id": "936dfef0",
   "metadata": {
    "tags": []
   },
   "outputs": [
    {
     "name": "stdout",
     "output_type": "stream",
     "text": [
      "[PhysicalDevice(name='/physical_device:GPU:0', device_type='GPU'), PhysicalDevice(name='/physical_device:GPU:1', device_type='GPU'), PhysicalDevice(name='/physical_device:GPU:2', device_type='GPU')]\n",
      "Test built: True\n"
     ]
    }
   ],
   "source": [
    "gpus = tf.config.experimental.list_physical_devices('GPU')\n",
    "print(gpus)\n",
    "for gpu in gpus:\n",
    "    tf.config.experimental.set_memory_growth(gpu, True)\n",
    "if gpus:\n",
    "    tf.config.set_visible_devices(gpus[1], 'GPU')\n",
    "\n",
    "print(\"Test built: {}\".format(tf.test.is_built_with_cuda()))"
   ]
  },
  {
   "cell_type": "code",
   "execution_count": 4,
   "id": "53372361",
   "metadata": {
    "tags": []
   },
   "outputs": [
    {
     "name": "stdout",
     "output_type": "stream",
     "text": [
      "Leakage between train and test: False\n"
     ]
    }
   ],
   "source": [
    "if use_enchanced_dataset == True:\n",
    "    IMAGE_DIR = \"/home/cries/Dataset/X-Ray/enchanced/\"\n",
    "else:\n",
    "    IMAGE_DIR = \"/home/cries/Dataset/X-Ray/original/images/\"\n",
    "    \n",
    "train_df= pd.read_csv(\"/home/cries/Dataset/X-Ray/DataFrame/\" + str(total_fold) + \"Fold/\" + \"train_Fold\" + str(n_fold) + \".csv\").loc[:,'Image Index':]\n",
    "test_df= pd.read_csv(\"/home/cries/Dataset/X-Ray/DataFrame/\" + str(total_fold) + \"Fold/\" + \"test_Fold\" + str(n_fold) + \".csv\").loc[:,'Image Index':]\n",
    "\n",
    "labels = ['No Findings',\n",
    "          'Cardiomegaly', \n",
    "          'Emphysema', \n",
    "          'Effusion', \n",
    "          'Hernia', \n",
    "          'Infiltration', \n",
    "          'Mass', \n",
    "          'Nodule', \n",
    "          'Atelectasis',\n",
    "          'Pneumothorax',\n",
    "          'Pleural_Thickening', \n",
    "          'Pneumonia', \n",
    "          'Fibrosis', \n",
    "          'Edema', \n",
    "          'Consolidation']\n",
    "\n",
    "print(\"Leakage between train and test: {}\".format(util.check_for_leakage(train_df, test_df, 'Image Index')))"
   ]
  },
  {
   "cell_type": "code",
   "execution_count": 5,
   "id": "612b0e99",
   "metadata": {
    "tags": []
   },
   "outputs": [],
   "source": [
    "# Setting\n",
    "seed= 1\n",
    "batch_size= 16\n",
    "# target_w= 320; target_h= 320; dim= (3,)\n",
    "target_w= 224; target_h= 224; dim= (3,)\n",
    "image_size_target= (target_w,target_h)\n",
    "image_shape= image_size_target + dim\n",
    "class_mode= 'raw'   # raw, categorical \n",
    "\n",
    "use_aug= False\n",
    "use_normalize= True\n",
    "index_col= \"Image Index\"\n",
    "labels_col= labels\n",
    "\n",
    "def prepare_generator(use_Aug, use_Normalize):\n",
    "    # == Aug Image\n",
    "    if use_Aug== True and use_Normalize== False:\n",
    "        return ImageDataGenerator(\n",
    "            rescale= 1./255,        \n",
    "            horizontal_flip= True,\n",
    "            # vertical_flip= False,\n",
    "            # shear_range=0.1,\n",
    "            # zoom_range=0.1,\n",
    "            # cval=0.0,\n",
    "            # fill_mode='constant',\n",
    "            # rotation_range = 10\n",
    "            )\n",
    "    # == Normalize Image\n",
    "    if use_Aug== False and use_Normalize== True:\n",
    "        return ImageDataGenerator(\n",
    "            rescale= 1./255,\n",
    "            # horizontal_flip=True,\n",
    "            samplewise_center= True,\n",
    "            samplewise_std_normalization= True\n",
    "            )\n",
    "    \n",
    "    # == Without\n",
    "    if use_Aug== False and use_Normalize== False:\n",
    "        return ImageDataGenerator(rescale= 1./255)\n",
    "    \n",
    "    if use_Aug== True and use_Normalize== True:\n",
    "        return ImageDataGenerator(\n",
    "            samplewise_center= True,\n",
    "            samplewise_std_normalization= True,\n",
    "            rescale= 1./255,        \n",
    "            horizontal_flip=True,\n",
    "            vertical_flip= False,\n",
    "            shear_range=0.1,\n",
    "            zoom_range=0.1,\n",
    "            cval=0.0,\n",
    "            fill_mode='constant',\n",
    "            rotation_range = 10\n",
    "            )"
   ]
  },
  {
   "cell_type": "code",
   "execution_count": 6,
   "id": "d3b674ac",
   "metadata": {
    "tags": []
   },
   "outputs": [
    {
     "name": "stdout",
     "output_type": "stream",
     "text": [
      "============ getting train generator ===========\n",
      "Found 4484 validated image filenames.\n",
      "\n",
      "==== getting train and test/valid generators ====\n",
      "Found 4484 validated image filenames.\n",
      "Found 1122 validated image filenames.\n"
     ]
    },
    {
     "name": "stderr",
     "output_type": "stream",
     "text": [
      "Clipping input data to the valid range for imshow with RGB data ([0..1] for floats or [0..255] for integers).\n"
     ]
    },
    {
     "data": {
      "image/png": "[encoded data removed]",
      "text/plain": [
       "<Figure size 144x144 with 1 Axes>"
      ]
     },
     "metadata": {
      "needs_background": "light"
     },
     "output_type": "display_data"
    }
   ],
   "source": [
    "# === Image Train Generator\n",
    "print(\"============ getting train generator ===========\") \n",
    "image_train= prepare_generator(use_Aug=True, use_Normalize=True).flow_from_dataframe(\n",
    "    dataframe= train_df,\n",
    "    directory= IMAGE_DIR,\n",
    "    x_col= index_col,\n",
    "    y_col= labels,\n",
    "    class_mode= class_mode,\n",
    "    batch_size= batch_size,\n",
    "    shuffle= True,\n",
    "    target_size= image_size_target\n",
    ")\n",
    "\n",
    "# === Image Validation and Test Generator\n",
    "print(\"\")\n",
    "print(\"==== getting train and test/valid generators ====\")\n",
    "raw_train_generator= prepare_generator(False, False).flow_from_dataframe(\n",
    "                        dataframe= train_df,\n",
    "                        directory= IMAGE_DIR,\n",
    "                        x_col= index_col,\n",
    "                        y_col= labels,\n",
    "                        class_mode= class_mode,\n",
    "                        batch_size= batch_size,\n",
    "                        shuffle= True,\n",
    "                        target_size= image_size_target\n",
    "                    )\n",
    "\n",
    "batch= raw_train_generator.next()\n",
    "data_sample= batch[0]\n",
    "imagegenerator= prepare_generator(False, True)\n",
    "imagegenerator.fit(data_sample)\n",
    "image_val = imagegenerator.flow_from_dataframe(\n",
    "                        dataframe= test_df,\n",
    "                        directory= IMAGE_DIR,\n",
    "                        x_col= index_col,\n",
    "                        y_col= labels,\n",
    "                        class_mode= class_mode,\n",
    "                        batch_size= batch_size,\n",
    "                        shuffle= False,\n",
    "                        target_size= image_size_target\n",
    "                    )\n",
    "\n",
    "x, y = image_train.__getitem__(0)\n",
    "plt.figure(figsize=(2,2))\n",
    "plt.axis('off')\n",
    "plt.imshow(x[0]);"
   ]
  },
  {
   "cell_type": "code",
   "execution_count": 7,
   "id": "02c8da0b",
   "metadata": {
    "tags": []
   },
   "outputs": [
    {
     "data": {
      "image/png": "[encoded data removed]",
      "text/plain": [
       "<Figure size 720x216 with 1 Axes>"
      ]
     },
     "metadata": {
      "needs_background": "light"
     },
     "output_type": "display_data"
    }
   ],
   "source": [
    "plt.figure(figsize=(10,3))\n",
    "plt.xticks(rotation=90)\n",
    "plt.bar(x=labels, height=np.mean(image_train.labels, axis=0))\n",
    "plt.title(\"Frequency of Each Class\")\n",
    "plt.show()"
   ]
  },
  {
   "cell_type": "code",
   "execution_count": 8,
   "id": "a66c6c5b",
   "metadata": {
    "tags": []
   },
   "outputs": [
    {
     "data": {
      "text/plain": [
       "array([0.54192685, 0.02520071, 0.02363961, 0.11641392, 0.00223015,\n",
       "       0.17105263, 0.05307761, 0.0544157 , 0.0941124 , 0.04772525,\n",
       "       0.03077609, 0.01137377, 0.01449599, 0.02118644, 0.0396967 ])"
      ]
     },
     "execution_count": 8,
     "metadata": {},
     "output_type": "execute_result"
    }
   ],
   "source": [
    "def compute_class_freqs(labels):\n",
    "    # total number of patients (rows)\n",
    "    N = labels.shape[0]\n",
    "    positive_frequencies = np.sum(labels, axis = 0) / N\n",
    "    negative_frequencies = 1 - positive_frequencies\n",
    "    return positive_frequencies, negative_frequencies\n",
    "\n",
    "freq_pos, freq_neg = compute_class_freqs(image_train.labels)\n",
    "freq_pos"
   ]
  },
  {
   "cell_type": "code",
   "execution_count": 9,
   "id": "0bad2b61",
   "metadata": {
    "tags": []
   },
   "outputs": [
    {
     "name": "stderr",
     "output_type": "stream",
     "text": [
      "<ipython-input-9-5b7fdcf061fc>:2: FutureWarning: The frame.append method is deprecated and will be removed from pandas in a future version. Use pandas.concat instead.\n",
      "  data = data.append([{\"Class\": labels[l], \"Label\": \"Negative\", \"Value\": v} for l,v in enumerate(freq_neg)], ignore_index=True)\n"
     ]
    },
    {
     "data": {
      "image/png": "[encoded data removed]",
      "text/plain": [
       "<Figure size 720x216 with 1 Axes>"
      ]
     },
     "metadata": {
      "needs_background": "light"
     },
     "output_type": "display_data"
    }
   ],
   "source": [
    "data = pd.DataFrame({\"Class\": labels, \"Label\": \"Positive\", \"Value\": freq_pos})\n",
    "data = data.append([{\"Class\": labels[l], \"Label\": \"Negative\", \"Value\": v} for l,v in enumerate(freq_neg)], ignore_index=True)\n",
    "plt.figure(figsize=(10,3))\n",
    "plt.xticks(rotation=90)\n",
    "f = sns.barplot(x=\"Class\", y=\"Value\", hue=\"Label\" ,data=data)"
   ]
  },
  {
   "cell_type": "code",
   "execution_count": 10,
   "id": "b7428e90",
   "metadata": {
    "tags": []
   },
   "outputs": [
    {
     "name": "stderr",
     "output_type": "stream",
     "text": [
      "<ipython-input-10-705df616134b>:7: FutureWarning: The frame.append method is deprecated and will be removed from pandas in a future version. Use pandas.concat instead.\n",
      "  data = data.append([{\"Class\": labels[l], \"Label\": \"Negative\", \"Value\": v}\n"
     ]
    },
    {
     "data": {
      "image/png": "[encoded data removed]",
      "text/plain": [
       "<Figure size 720x216 with 1 Axes>"
      ]
     },
     "metadata": {
      "needs_background": "light"
     },
     "output_type": "display_data"
    }
   ],
   "source": [
    "pos_weights = freq_neg\n",
    "neg_weights = freq_pos\n",
    "pos_contribution = freq_pos * pos_weights \n",
    "neg_contribution = freq_neg * neg_weights\n",
    "\n",
    "data = pd.DataFrame({\"Class\": labels, \"Label\": \"Positive\", \"Value\": pos_contribution})\n",
    "data = data.append([{\"Class\": labels[l], \"Label\": \"Negative\", \"Value\": v} \n",
    "                        for l,v in enumerate(neg_contribution)], ignore_index=True)\n",
    "plt.figure(figsize=(10,3))\n",
    "plt.xticks(rotation=90)\n",
    "sns.barplot(x=\"Class\", y=\"Value\", hue=\"Label\" ,data=data);"
   ]
  },
  {
   "cell_type": "code",
   "execution_count": 11,
   "id": "578eae19-70df-480a-915e-a178ce3b16e1",
   "metadata": {},
   "outputs": [],
   "source": [
    "class_weights = util.generate_class_weights(image_train.labels, multi_class=False, one_hot_encoded=True)\n",
    "# class_weights"
   ]
  },
  {
   "cell_type": "code",
   "execution_count": null,
   "id": "34a75cbd-3e6b-4935-91fa-d77c33c82a4a",
   "metadata": {},
   "outputs": [],
   "source": []
  },
  {
   "cell_type": "code",
   "execution_count": 12,
   "id": "4a3d3f68-2c52-41b4-be2b-0a9cce52b32d",
   "metadata": {
    "tags": []
   },
   "outputs": [
    {
     "data": {
      "text/plain": [
       "(224, 224, 3)"
      ]
     },
     "execution_count": 12,
     "metadata": {},
     "output_type": "execute_result"
    }
   ],
   "source": [
    "image_shape"
   ]
  },
  {
   "cell_type": "code",
   "execution_count": 13,
   "id": "359c5b73",
   "metadata": {
    "tags": []
   },
   "outputs": [],
   "source": [
    "inputs= Input(shape=image_shape)\n",
    "# inputs= image_shape\n",
    "# inputs"
   ]
  },
  {
   "cell_type": "code",
   "execution_count": null,
   "id": "fb5447d9",
   "metadata": {
    "tags": []
   },
   "outputs": [],
   "source": []
  },
  {
   "cell_type": "code",
   "execution_count": 14,
   "id": "7674bb3e-aa68-42f9-bd52-807f16325506",
   "metadata": {
    "tags": []
   },
   "outputs": [],
   "source": [
    "num_class = len(labels)"
   ]
  },
  {
   "cell_type": "code",
   "execution_count": 15,
   "id": "0b520f6b-e9ee-4eea-951b-bb57dd220f59",
   "metadata": {
    "tags": []
   },
   "outputs": [],
   "source": [
    "inputs= Input(shape=(224,224,3))"
   ]
  },
  {
   "cell_type": "code",
   "execution_count": null,
   "id": "ae307074-8cd2-4c72-ad3d-d78b49f5978f",
   "metadata": {
    "tags": []
   },
   "outputs": [],
   "source": []
  },
  {
   "cell_type": "code",
   "execution_count": 16,
   "id": "634341de-a894-44ae-ba2a-6e4f157b62c6",
   "metadata": {},
   "outputs": [],
   "source": [
    "learning_rate = 0.001\n",
    "weight_decay = 0.0001\n",
    "batch_size = 256\n",
    "num_epochs = 100\n",
    "image_size = 72  # We'll resize input images to this size\n",
    "patch_size = 6  # Size of the patches to be extract from the input images\n",
    "num_patches = (image_size // patch_size) ** 2\n",
    "projection_dim = 64\n",
    "num_heads = 4\n",
    "transformer_units = [\n",
    "    projection_dim * 2,\n",
    "    projection_dim,\n",
    "]  # Size of the transformer layers\n",
    "transformer_layers = 8\n",
    "mlp_head_units = [2048, 1024]"
   ]
  },
  {
   "cell_type": "code",
   "execution_count": 17,
   "id": "859f65ac-faac-4bfa-b854-653b8ed95085",
   "metadata": {},
   "outputs": [],
   "source": [
    "data_augmentation = keras.Sequential(\n",
    "    [\n",
    "        # layers.Normalization(),\n",
    "        layers.Resizing(image_size, image_size),\n",
    "        # layers.RandomFlip(\"horizontal\"),\n",
    "        # layers.RandomRotation(factor=0.02),\n",
    "        # layers.RandomZoom(\n",
    "        #     height_factor=0.2, width_factor=0.2\n",
    "        # ),\n",
    "    ],\n",
    "    name=\"data_augmentation\",\n",
    ")\n",
    "# Compute the mean and the variance of the training data for normalization.\n",
    "# data_augmentation.layers[0].adapt(image_train)"
   ]
  },
  {
   "cell_type": "code",
   "execution_count": 18,
   "id": "5185b951-438f-4a63-a2a5-c5c9c518e1ef",
   "metadata": {},
   "outputs": [],
   "source": [
    "def mlp(x, hidden_units, dropout_rate):\n",
    "    for units in hidden_units:\n",
    "        x = layers.Dense(units, activation=tf.nn.gelu)(x)\n",
    "        x = layers.Dropout(dropout_rate)(x)\n",
    "    return x"
   ]
  },
  {
   "cell_type": "code",
   "execution_count": 19,
   "id": "b074332c-aab2-4f51-a7f1-7efc5888c423",
   "metadata": {},
   "outputs": [],
   "source": [
    "class Patches(layers.Layer):\n",
    "    def __init__(self, patch_size):\n",
    "        super(Patches, self).__init__()\n",
    "        self.patch_size = patch_size\n",
    "\n",
    "    def call(self, images):\n",
    "        batch_size = tf.shape(images)[0]\n",
    "        patches = tf.image.extract_patches(\n",
    "            images=images,\n",
    "            sizes=[1, self.patch_size, self.patch_size, 1],\n",
    "            strides=[1, self.patch_size, self.patch_size, 1],\n",
    "            rates=[1, 1, 1, 1],\n",
    "            padding=\"VALID\",\n",
    "        )\n",
    "        patch_dims = patches.shape[-1]\n",
    "        patches = tf.reshape(patches, [batch_size, -1, patch_dims])\n",
    "        return patches"
   ]
  },
  {
   "cell_type": "code",
   "execution_count": 20,
   "id": "0e86be30-b56b-41b5-b0bc-61cc54e6dadf",
   "metadata": {},
   "outputs": [],
   "source": [
    "class PatchEncoder(layers.Layer):\n",
    "    def __init__(self, num_patches, projection_dim):\n",
    "        super(PatchEncoder, self).__init__()\n",
    "        self.num_patches = num_patches\n",
    "        self.projection = layers.Dense(units=projection_dim)\n",
    "        self.position_embedding = layers.Embedding(\n",
    "            input_dim=num_patches, output_dim=projection_dim\n",
    "        )\n",
    "\n",
    "    def call(self, patch):\n",
    "        positions = tf.range(start=0, limit=self.num_patches, delta=1)\n",
    "        encoded = self.projection(patch) + self.position_embedding(positions)\n",
    "        return encoded"
   ]
  },
  {
   "cell_type": "code",
   "execution_count": 21,
   "id": "e91847c5-0a23-468b-83d7-79baa8a25230",
   "metadata": {},
   "outputs": [],
   "source": [
    "def create_vit_classifier(layer):\n",
    "    inputs = layer\n",
    "    # Augment data.\n",
    "    augmented = data_augmentation(inputs)\n",
    "    # Create patches.\n",
    "    patches = Patches(patch_size)(augmented)\n",
    "    # Encode patches.\n",
    "    encoded_patches = PatchEncoder(num_patches, projection_dim)(patches)\n",
    "\n",
    "    # Create multiple layers of the Transformer block.\n",
    "    for _ in range(transformer_layers):\n",
    "        # Layer normalization 1.\n",
    "        x1 = layers.LayerNormalization(epsilon=1e-6)(encoded_patches)\n",
    "        # Create a multi-head attention layer.\n",
    "        attention_output = layers.MultiHeadAttention(\n",
    "            num_heads=num_heads, key_dim=projection_dim, dropout=0.1\n",
    "        )(x1, x1)\n",
    "        # Skip connection 1.\n",
    "        x2 = layers.Add()([attention_output, encoded_patches])\n",
    "        # Layer normalization 2.\n",
    "        x3 = layers.LayerNormalization(epsilon=1e-6)(x2)\n",
    "        # MLP.\n",
    "        x3 = mlp(x3, hidden_units=transformer_units, dropout_rate=0.1)\n",
    "        # Skip connection 2.\n",
    "        encoded_patches = layers.Add()([x3, x2])\n",
    "\n",
    "    # Create a [batch_size, projection_dim] tensor.\n",
    "    representation = layers.LayerNormalization(epsilon=1e-6)(encoded_patches)\n",
    "    representation = layers.Flatten()(representation)\n",
    "    representation = layers.Dropout(0.5)(representation)\n",
    "    # Add MLP.\n",
    "    features = mlp(representation, hidden_units=mlp_head_units, dropout_rate=0.5)\n",
    "    # Classify outputs.\n",
    "    # prediction = layers.Dense(num_class, activation=\"sigmoid\")(features)\n",
    "    # Create the Keras model.\n",
    "    # model = keras.Model(inputs=inputs, outputs=logits)\n",
    "    return features"
   ]
  },
  {
   "cell_type": "code",
   "execution_count": 22,
   "id": "32cd7ed6-6107-4386-b84f-83bb2c72b8d2",
   "metadata": {},
   "outputs": [],
   "source": [
    "def mlp_head(x, depth=[128, 128], dropout_rate=0.25):\n",
    "    for units in depth:\n",
    "        x = layers.Dense(units, activation='swish')(x)\n",
    "        x = BatchNormalization()(x)\n",
    "        # x = Dropout(dropout_rate)(x)\n",
    "    return x"
   ]
  },
  {
   "cell_type": "code",
   "execution_count": 23,
   "id": "c3e2bef7-22a0-4613-a8dc-879cedf02f27",
   "metadata": {},
   "outputs": [
    {
     "name": "stdout",
     "output_type": "stream",
     "text": [
      "WARNING:tensorflow:Please fix your imports. Module tensorflow.python.training.tracking.data_structures has been moved to tensorflow.python.trackable.data_structures. The old module will be deleted in version 2.11.\n",
      "WARNING:tensorflow:From /home/cries/.conda/envs/jeremie_env/lib/python3.9/site-packages/tensorflow/python/autograph/pyct/static_analysis/liveness.py:83: Analyzer.lamba_check (from tensorflow.python.autograph.pyct.static_analysis.liveness) is deprecated and will be removed after 2023-09-23.\n",
      "Instructions for updating:\n",
      "Lambda fuctions will be no more assumed to be used in the statement where they are used, or at least in the same block. https://github.com/tensorflow/tensorflow/issues/56089\n"
     ]
    },
    {
     "name": "stderr",
     "output_type": "stream",
     "text": [
      "WARNING:tensorflow:From /home/cries/.conda/envs/jeremie_env/lib/python3.9/site-packages/tensorflow/python/autograph/pyct/static_analysis/liveness.py:83: Analyzer.lamba_check (from tensorflow.python.autograph.pyct.static_analysis.liveness) is deprecated and will be removed after 2023-09-23.\n",
      "Instructions for updating:\n",
      "Lambda fuctions will be no more assumed to be used in the statement where they are used, or at least in the same block. https://github.com/tensorflow/tensorflow/issues/56089\n"
     ]
    }
   ],
   "source": [
    "mdl1 = hub.KerasLayer(\"https://tfhub.dev/sayakpaul/swin_s3_base_224_fe/1\", trainable=False)(inputs)\n",
    "# swin_output = Flatten()(swin_output)\n",
    "\n",
    "mdl1 = Model(inputs, mdl1)\n",
    "# mdl1.trainable = False\n",
    "\n",
    "mdl2 = tf.keras.applications.DenseNet121(weights='imagenet', include_top=False)(inputs)\n",
    "mdl2 = BatchNormalization()(mdl2)\n",
    "# mdl2 = create_vit_classifier(mdl2)\n",
    "\n",
    "\n",
    "mdl2 = GlobalMaxPooling2D()(mdl2)\n",
    "mdl2 = Model(inputs=inputs, outputs=mdl2)\n",
    "# mdl2.trainable = False"
   ]
  },
  {
   "cell_type": "code",
   "execution_count": 24,
   "id": "35fcb3c9-795a-4a64-802e-1e53accc1cb4",
   "metadata": {
    "tags": []
   },
   "outputs": [],
   "source": [
    "fusion = Concatenate()([mdl1.output, mdl2.output])\n",
    "fusion = BatchNormalization()(fusion)\n",
    "\n",
    "aux1 = mlp_head(mdl1.output, depth=[1024, 512])\n",
    "\n",
    "# aux2 = mlp_head(mdl2.output, depth=[1024, 512])\n",
    "\n",
    "main = mlp_head(fusion, depth=[2048, 1024])\n",
    "\n",
    "head = Concatenate()([aux1, main])\n",
    "head = mlp_head(head, depth=[2048, 1024, 256])\n",
    "\n",
    "predictions = Dense(num_class, activation=\"sigmoid\")(head)\n",
    "\n",
    "model = Model(inputs=inputs, outputs=predictions)"
   ]
  },
  {
   "cell_type": "code",
   "execution_count": 25,
   "id": "fd08945c-5ecb-481f-a121-3437317fdfda",
   "metadata": {},
   "outputs": [],
   "source": [
    "output_dir = './output_weights/{}'.format(model_name)\n",
    "weight_path = '{}_ckp_weights.h5'.format(model_name)\n",
    "\n",
    "output_weights_path = os.path.join(output_dir, weight_path)\n",
    "\n",
    "if not os.path.isdir(output_dir):\n",
    "        os.makedirs(output_dir)\n",
    "\n",
    "\n",
    "adaptive_lr = ReduceLROnPlateau(monitor='val_loss', factor=0.1, patience=2, verbose=1, mode=\"min\", min_lr=1e-8) "
   ]
  },
  {
   "cell_type": "code",
   "execution_count": 26,
   "id": "f7a67fe0-98e0-4d3a-8f2e-413405cb3ee3",
   "metadata": {},
   "outputs": [],
   "source": [
    "loss = util.set_binary_crossentropy_weighted_loss(\n",
    "    positive_weights=pos_weights,\n",
    "    negative_weights=neg_weights\n",
    ")"
   ]
  },
  {
   "cell_type": "code",
   "execution_count": 27,
   "id": "fb048dce",
   "metadata": {
    "tags": []
   },
   "outputs": [
    {
     "name": "stdout",
     "output_type": "stream",
     "text": [
      "WARNING:tensorflow:`period` argument is deprecated. Please use `save_freq` to specify the frequency in number of batches seen.\n"
     ]
    },
    {
     "name": "stderr",
     "output_type": "stream",
     "text": [
      "WARNING:tensorflow:`period` argument is deprecated. Please use `save_freq` to specify the frequency in number of batches seen.\n"
     ]
    }
   ],
   "source": [
    "epoch = 25\n",
    "\n",
    "lr = 0.0001\n",
    "decay_rate = lr / epoch\n",
    "momentum = 0.99\n",
    "adam = tf.keras.optimizers.Adam(learning_rate=lr)\n",
    "sgd = tf.keras.optimizers.SGD(learning_rate=lr, momentum=momentum, nesterov=False)\n",
    "checkpoint = ModelCheckpoint(output_weights_path, monitor='val_loss', verbose=1, save_best_only=True, mode='auto', period=1)\n",
    "\n",
    "# class_weigths = dict(zip(range(len(neg_weights)), neg_weights))\n",
    "# weighted_loss = get_weighted_loss(pos_weights, neg_weights)\n",
    "bce_ls = tf.keras.losses.BinaryCrossentropy(label_smoothing=0.0)\n",
    "\n",
    "metric_auc = tf.keras.metrics.AUC(multi_label=True)\n",
    "\n",
    "model.compile(loss=loss, optimizer=adam, metrics=[metric_auc])"
   ]
  },
  {
   "cell_type": "code",
   "execution_count": null,
   "id": "986f9abb",
   "metadata": {
    "tags": []
   },
   "outputs": [
    {
     "data": {
      "image/png": "[encoded data removed]",
      "text/plain": [
       "<Figure size 864x576 with 2 Axes>"
      ]
     },
     "metadata": {
      "needs_background": "light"
     },
     "output_type": "display_data"
    },
    {
     "name": "stdout",
     "output_type": "stream",
     "text": [
      "auc\n",
      "\ttraining         \t (min:    0.596, max:    0.793, cur:    0.793)\n",
      "\tvalidation       \t (min:    0.577, max:    0.682, cur:    0.682)\n",
      "Loss\n",
      "\ttraining         \t (min:    1.026, max:    1.379, cur:    1.026)\n",
      "\tvalidation       \t (min:    1.163, max:    1.414, cur:    1.163)\n",
      "281/281 [==============================] - 136s 484ms/step - loss: 1.0255 - auc: 0.7927 - val_loss: 1.1629 - val_auc: 0.6823 - lr: 1.0000e-04\n",
      "Epoch 7/25\n",
      " 66/281 [======>.......................] - ETA: 1:26 - loss: 0.9752 - auc: 0.8311"
     ]
    }
   ],
   "source": [
    "start = time.time() \n",
    "history = model.fit(image_train, epochs=epoch, validation_data=image_val, callbacks=[checkpoint,PlotLossesKeras(), adaptive_lr],verbose=1)\n",
    "end_train = time.time() - start"
   ]
  },
  {
   "cell_type": "code",
   "execution_count": null,
   "id": "ca05d793-fbf4-485b-94cc-543b4c149996",
   "metadata": {},
   "outputs": [],
   "source": []
  },
  {
   "cell_type": "code",
   "execution_count": null,
   "id": "2f46c5dd",
   "metadata": {
    "tags": []
   },
   "outputs": [],
   "source": [
    "save_model_path = os.path.join(output_dir, 'model_{}'.format(model_name))\n",
    "model.save(save_model_path)"
   ]
  },
  {
   "cell_type": "code",
   "execution_count": null,
   "id": "dfed547c",
   "metadata": {
    "tags": []
   },
   "outputs": [],
   "source": [
    "final_weight_model_path = os.path.join(output_dir, '{}_weights.h5'.format(model_name))\n",
    "model.save_weights(final_weight_model_path)\n",
    "file_stats = os.stat(final_weight_model_path)\n",
    "model_size = round(file_stats.st_size / (1024 * 1024), 2)\n",
    "model_parameter = model.count_params()"
   ]
  },
  {
   "cell_type": "code",
   "execution_count": null,
   "id": "eb7ce26a",
   "metadata": {
    "tags": []
   },
   "outputs": [],
   "source": [
    "import pickle\n",
    "\n",
    "with open('trainHistoryDict', 'wb') as file_pi:\n",
    "        pickle.dump(history.history, file_pi)"
   ]
  },
  {
   "cell_type": "code",
   "execution_count": null,
   "id": "d1dadb25-39ee-4513-a171-ddb8f964129f",
   "metadata": {},
   "outputs": [],
   "source": [
    "save_model_path"
   ]
  },
  {
   "cell_type": "code",
   "execution_count": null,
   "id": "5bca88f5",
   "metadata": {
    "tags": []
   },
   "outputs": [],
   "source": [
    "#Load Model\n",
    "from tensorflow import keras\n",
    "model_fusion = keras.models.load_model(save_model_path, custom_objects={\n",
    "    \"binary_crossentropy_weighted_loss\": util.set_binary_crossentropy_weighted_loss})"
   ]
  },
  {
   "cell_type": "code",
   "execution_count": null,
   "id": "448bb8d8-567f-4250-8a1c-4e3ff989d7be",
   "metadata": {},
   "outputs": [],
   "source": [
    "predicted_vals = model_fusion.predict_generator(image_val)"
   ]
  },
  {
   "cell_type": "code",
   "execution_count": null,
   "id": "86268429-51e9-48e4-87fd-0a164283a3ce",
   "metadata": {
    "tags": []
   },
   "outputs": [],
   "source": [
    "auc_rocs = util.get_roc_curve(labels, predicted_vals, image_val)"
   ]
  },
  {
   "cell_type": "code",
   "execution_count": null,
   "id": "2d2e4258-f31c-439d-806b-f18d2b7206d5",
   "metadata": {},
   "outputs": [],
   "source": [
    "mean_auroc = np.mean(auc_rocs)\n",
    "print(\"Mean AUC: {}\".format(mean_auroc))"
   ]
  },
  {
   "cell_type": "code",
   "execution_count": null,
   "id": "dde830f6-9ced-4b64-a23d-1d5e288db144",
   "metadata": {
    "tags": []
   },
   "outputs": [],
   "source": [
    "from numba import cuda \n",
    "device = cuda.get_current_device()\n",
    "device.reset()\n",
    "print(device)"
   ]
  },
  {
   "cell_type": "code",
   "execution_count": null,
   "id": "47477536",
   "metadata": {},
   "outputs": [],
   "source": [
    "# from sklearn.metrics import confusion_matrix\n",
    "# from sklearn.metrics import classification_report\n",
    "# from sklearn.metrics import precision_score\n",
    "# from sklearn.metrics import recall_score\n",
    "# from sklearn.metrics import multilabel_confusion_matrix\n",
    "# from sklearn.metrics import f1_score\n",
    "# from sklearn.metrics import accuracy_score\n",
    "\n",
    "# start = time.time()\n",
    "# y_prob = model_fusion.predict(image_val)\n",
    "# end_test = time.time() - start\n",
    "\n",
    "# y_pred = np.argmax(y_prob, axis=1)\n",
    "# y_true = image_val.classes\n",
    "\n",
    "# print(\"Precision:\", precision_score(y_true, y_pred, average='weighted'), \"Recall:\", recall_score(y_true, y_pred, average='weighted'))\n",
    "\n",
    "# cm = multilabel_confusion_matrix(y_true, y_pred)\n",
    "\n",
    "# a = []\n",
    "\n",
    "# for i in range(len(cm)):\n",
    "#     a.append(cm[i].ravel())\n",
    "\n",
    "# tp, fn, fp, tn =np.sum(np.array(a), axis = 0)\n",
    "\n",
    "# print(\"tp, fn, fp, tn:\", tp, fn, fp, tn)\n",
    "\n",
    "# print(\"Specificity:\", tn / (tn+fp), \"Sensitivity:\", tp / (tp+fn))\n",
    "# print(\"F1-Score:\", f1_score(y_true, y_pred, average='weighted'), \"Accuracy:\", accuracy_score(y_true, y_pred))\n",
    "\n",
    "# Specificty = tn / (tn+fp)\n",
    "# Sensitivity = tp / (tp+fn)\n",
    "# F1_Score = f1_score(y_true, y_pred, average='weighted')\n",
    "# Accuracy = accuracy_score(y_true, y_pred)"
   ]
  },
  {
   "cell_type": "code",
   "execution_count": null,
   "id": "4ba4216e",
   "metadata": {},
   "outputs": [],
   "source": [
    "# result = [y_true, y_pred]\n",
    "# pd.DataFrame(result).to_csv(\"{}_{}_result.csv\".format(model_name, n_fold))\n",
    "# pd.DataFrame(y_prob).to_csv(\"{}_{}_probability.csv\".format(model_name, n_fold))"
   ]
  },
  {
   "cell_type": "code",
   "execution_count": null,
   "id": "60eece65",
   "metadata": {},
   "outputs": [],
   "source": [
    "# from sklearn.metrics import roc_curve\n",
    "# from sklearn.metrics import roc_auc_score\n",
    "\n",
    "# fpr_keras, tpr_keras, thresholds_keras = roc_curve(y_true, y_pred)\n",
    "# m_auc = roc_auc_score(y_true, y_pred)\n",
    "\n",
    "# print(fpr_keras, tpr_keras, thresholds_keras, m_auc)\n",
    "\n",
    "# from sklearn.metrics import auc\n",
    "# auc_keras = auc(fpr_keras, tpr_keras)\n",
    "# print(auc_keras)"
   ]
  },
  {
   "cell_type": "code",
   "execution_count": null,
   "id": "0636b47a",
   "metadata": {},
   "outputs": [],
   "source": [
    "# # keep probabilities for the positive outcome only\n",
    "# lr_probs = y_prob[:, 1]\n",
    "# lr_auc = roc_auc_score(y_true, lr_probs)\n",
    "# print('Model Fusion: ROC AUC=%.3f' % (lr_auc))\n",
    "\n",
    "# lr_fpr, lr_tpr, _ = roc_curve(y_true, lr_probs)\n",
    "\n",
    "# plt.figure(figsize=(10, 10))\n",
    "# font={'size':'15'}\n",
    "# plt.rc('font',**font)\n",
    "\n",
    "# plt.plot([0, 1], [0, 1], 'k--', label='No Skill')\n",
    "# plt.plot(lr_fpr, lr_tpr, marker='.', label='{} Model ROC curve (area = %0.2f)'.format(model_name) % lr_auc)\n",
    "\n",
    "# roc_auc = [lr_fpr, lr_fpr]\n",
    "# pd.DataFrame(roc_auc).to_csv(\"{}_roc_auc.csv\".format(model_name))\n",
    "\n",
    "# # axis labels\n",
    "# plt.xlabel('False Positive Rate')\n",
    "# plt.ylabel('True Positive Rate')\n",
    "# # show the legend\n",
    "# plt.legend()\n",
    "\n",
    "# AUC_Score = lr_auc"
   ]
  },
  {
   "cell_type": "code",
   "execution_count": null,
   "id": "c9a6ace7",
   "metadata": {},
   "outputs": [],
   "source": [
    "# Result = [Specificty, Sensitivity, F1_Score, Accuracy, AUC_Score, end_train, end_test, model_size, model_parameter]\n",
    "# colname = ['Specificty', 'Sensitivity', 'F1_Score', 'Accuracy', 'AUC_Score', 'end_train', 'end_test', 'model_size', 'model_parameter']\n",
    "\n",
    "# pd.DataFrame([Result], columns=colname).to_csv(\"{}_fold_\".format(model_name)+str(n_fold)+\".csv\")"
   ]
  },
  {
   "cell_type": "code",
   "execution_count": null,
   "id": "9056cae9",
   "metadata": {},
   "outputs": [],
   "source": [
    "# from sklearn.metrics import ConfusionMatrixDisplay\n",
    "# from sklearn.metrics import confusion_matrix\n",
    "# import matplotlib.pyplot as plt\n",
    "\n",
    "# plt.figure(figsize=(15, 15))\n",
    "\n",
    "# labels = [\"Sperm\", \"Impurity\"]\n",
    "# cm = confusion_matrix(y_true, y_pred)\n",
    "# disp = ConfusionMatrixDisplay(confusion_matrix=cm, display_labels=labels)\n",
    "\n",
    "# plt.rcParams['figure.figsize']=[15,15]\n",
    "# font={'size':'30'}\n",
    "# plt.rc('font',**font)\n",
    "# disp.plot(cmap=plt.cm.Blues)"
   ]
  }
 ],
 "metadata": {
  "kernelspec": {
   "display_name": "jeremie_env",
   "language": "python",
   "name": "jeremie_env"
  },
  "language_info": {
   "codemirror_mode": {
    "name": "ipython",
    "version": 3
   },
   "file_extension": ".py",
   "mimetype": "text/x-python",
   "name": "python",
   "nbconvert_exporter": "python",
   "pygments_lexer": "ipython3",
   "version": "3.9.15"
  },
  "widgets": {
   "application/vnd.jupyter.widget-state+json": {
    "state": {},
    "version_major": 2,
    "version_minor": 0
   }
  }
 },
 "nbformat": 4,
 "nbformat_minor": 5
}
